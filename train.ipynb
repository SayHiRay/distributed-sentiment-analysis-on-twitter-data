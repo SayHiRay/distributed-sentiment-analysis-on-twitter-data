{
 "cells": [
  {
   "cell_type": "code",
   "execution_count": 1,
   "metadata": {},
   "outputs": [],
   "source": [
    "from pyspark.ml.feature import RegexTokenizer, HashingTF, IDF, CountVectorizer, Normalizer\n",
    "from pyspark.sql.functions import col, udf\n",
    "from pyspark.sql.types import IntegerType, DoubleType, StringType, StructType, StructField\n",
    "from pyspark.sql import SparkSession\n",
    "from pyspark.ml.feature import StopWordsRemover\n",
    "from nltk.sentiment import SentimentIntensityAnalyzer"
   ]
  },
  {
   "cell_type": "markdown",
   "metadata": {},
   "source": [
    "Note that to run this notebook up you need to wget your own dataset using:\n",
    "\n",
    "wget http://cs.stanford.edu/people/alecmgo/trainingandtestdata.zip\n",
    "\n",
    "and unzip the file into ./sentiment140 subfolder.\n",
    "\n",
    "This dataset is too large to push to the github repository."
   ]
  },
  {
   "cell_type": "code",
   "execution_count": 2,
   "metadata": {},
   "outputs": [],
   "source": [
    "data_file = r\"file:///home/jovyan/repos/distributed-sentiment-analysis-on-twitter-data/sentiment140/training.1600000.processed.noemoticon.csv\""
   ]
  },
  {
   "cell_type": "code",
   "execution_count": 3,
   "metadata": {},
   "outputs": [],
   "source": [
    "# Initialize a Spark session\n",
    "spark = SparkSession \\\n",
    "    .builder \\\n",
    "    .appName(\"TrainModel\") \\\n",
    "    .getOrCreate()"
   ]
  },
  {
   "cell_type": "code",
   "execution_count": 7,
   "metadata": {},
   "outputs": [],
   "source": [
    "# define the data schema(format/structure) for our twitter data in the csv file\n",
    "training_data_schema = StructType([StructField(\"polarity\", StringType(), True),\n",
    "                                  StructField(\"id\", StringType(), True),\n",
    "                                  StructField(\"date\", StringType(), True),\n",
    "                                  StructField(\"query\", StringType(), True),\n",
    "                                  StructField(\"user\", StringType(), True),\n",
    "                                  StructField(\"text\", StringType(), True)])"
   ]
  },
  {
   "cell_type": "code",
   "execution_count": 8,
   "metadata": {},
   "outputs": [],
   "source": [
    "df_raw = spark.read.csv(\n",
    "    data_file, schema=training_data_schema\n",
    ")"
   ]
  },
  {
   "cell_type": "code",
   "execution_count": 9,
   "metadata": {
    "scrolled": true
   },
   "outputs": [
    {
     "name": "stdout",
     "output_type": "stream",
     "text": [
      "+--------+----------+----------------------------+--------+---------------+---------------------------------------------------------------------------------------------------------------------+\n",
      "|polarity|id        |date                        |query   |user           |text                                                                                                                 |\n",
      "+--------+----------+----------------------------+--------+---------------+---------------------------------------------------------------------------------------------------------------------+\n",
      "|0       |1467810369|Mon Apr 06 22:19:45 PDT 2009|NO_QUERY|_TheSpecialOne_|@switchfoot http://twitpic.com/2y1zl - Awww, that's a bummer.  You shoulda got David Carr of Third Day to do it. ;D  |\n",
      "|0       |1467810672|Mon Apr 06 22:19:49 PDT 2009|NO_QUERY|scotthamilton  |is upset that he can't update his Facebook by texting it... and might cry as a result  School today also. Blah!      |\n",
      "|0       |1467810917|Mon Apr 06 22:19:53 PDT 2009|NO_QUERY|mattycus       |@Kenichan I dived many times for the ball. Managed to save 50%  The rest go out of bounds                            |\n",
      "|0       |1467811184|Mon Apr 06 22:19:57 PDT 2009|NO_QUERY|ElleCTF        |my whole body feels itchy and like its on fire                                                                       |\n",
      "|0       |1467811193|Mon Apr 06 22:19:57 PDT 2009|NO_QUERY|Karoli         |@nationwideclass no, it's not behaving at all. i'm mad. why am i here? because I can't see you all over there.       |\n",
      "|0       |1467811372|Mon Apr 06 22:20:00 PDT 2009|NO_QUERY|joy_wolf       |@Kwesidei not the whole crew                                                                                         |\n",
      "|0       |1467811592|Mon Apr 06 22:20:03 PDT 2009|NO_QUERY|mybirch        |Need a hug                                                                                                           |\n",
      "|0       |1467811594|Mon Apr 06 22:20:03 PDT 2009|NO_QUERY|coZZ           |@LOLTrish hey  long time no see! Yes.. Rains a bit ,only a bit  LOL , I'm fine thanks , how's you ?                  |\n",
      "|0       |1467811795|Mon Apr 06 22:20:05 PDT 2009|NO_QUERY|2Hood4Hollywood|@Tatiana_K nope they didn't have it                                                                                  |\n",
      "|0       |1467812025|Mon Apr 06 22:20:09 PDT 2009|NO_QUERY|mimismo        |@twittera que me muera ?                                                                                             |\n",
      "|0       |1467812416|Mon Apr 06 22:20:16 PDT 2009|NO_QUERY|erinx3leannexo |spring break in plain city... it's snowing                                                                           |\n",
      "|0       |1467812579|Mon Apr 06 22:20:17 PDT 2009|NO_QUERY|pardonlauren   |I just re-pierced my ears                                                                                            |\n",
      "|0       |1467812723|Mon Apr 06 22:20:19 PDT 2009|NO_QUERY|TLeC           |@caregiving I couldn't bear to watch it.  And I thought the UA loss was embarrassing . . . . .                       |\n",
      "|0       |1467812771|Mon Apr 06 22:20:19 PDT 2009|NO_QUERY|robrobbierobert|@octolinz16 It it counts, idk why I did either. you never talk to me anymore                                         |\n",
      "|0       |1467812784|Mon Apr 06 22:20:20 PDT 2009|NO_QUERY|bayofwolves    |@smarrison i would've been the first, but i didn't have a gun.    not really though, zac snyder's just a doucheclown.|\n",
      "|0       |1467812799|Mon Apr 06 22:20:20 PDT 2009|NO_QUERY|HairByJess     |@iamjazzyfizzle I wish I got to watch it with you!! I miss you and @iamlilnicki  how was the premiere?!              |\n",
      "|0       |1467812964|Mon Apr 06 22:20:22 PDT 2009|NO_QUERY|lovesongwriter |Hollis' death scene will hurt me severely to watch on film  wry is directors cut not out now?                        |\n",
      "|0       |1467813137|Mon Apr 06 22:20:25 PDT 2009|NO_QUERY|armotley       |about to file taxes                                                                                                  |\n",
      "|0       |1467813579|Mon Apr 06 22:20:31 PDT 2009|NO_QUERY|starkissed     |@LettyA ahh ive always wanted to see rent  love the soundtrack!!                                                     |\n",
      "|0       |1467813782|Mon Apr 06 22:20:34 PDT 2009|NO_QUERY|gi_gi_bee      |@FakerPattyPattz Oh dear. Were you drinking out of the forgotten table drinks?                                       |\n",
      "+--------+----------+----------------------------+--------+---------------+---------------------------------------------------------------------------------------------------------------------+\n",
      "only showing top 20 rows\n",
      "\n"
     ]
    }
   ],
   "source": [
    "df_raw.show(truncate=False)"
   ]
  },
  {
   "cell_type": "code",
   "execution_count": 30,
   "metadata": {},
   "outputs": [],
   "source": [
    "import matplotlib.pyplot as plt\n",
    "plt.style.use('fivethirtyeight')\n",
    "\n",
    "%matplotlib inline\n",
    "%config InlineBackend.figure_format = 'retina'\n",
    "import re\n",
    "from bs4 import BeautifulSoup\n",
    "from nltk.tokenize import WordPunctTokenizer\n",
    "tok = WordPunctTokenizer()\n",
    "\n",
    "at_user_pat = r'@[A-Za-z0-9_]+'  # r'@[\\w]+'\n",
    "url_pat = r'https?://[^ ]+'  # r'https?:\\/\\/[^\\s]+'\n",
    "www_pat = r'www.[^ ]+'\n",
    "repeating_chars_pat = r'([A-Za-z])\\1+'\n",
    "negations_dic = {\"isn't\":\"is not\", \"aren't\":\"are not\", \"wasn't\":\"was not\", \"weren't\":\"were not\",\n",
    "                \"haven't\":\"have not\",\"hasn't\":\"has not\",\"hadn't\":\"had not\",\"won't\":\"will not\",\n",
    "                \"wouldn't\":\"would not\", \"don't\":\"do not\", \"doesn't\":\"does not\",\"didn't\":\"did not\",\n",
    "                \"can't\":\"can not\",\"couldn't\":\"could not\",\"shouldn't\":\"should not\",\"mightn't\":\"might not\",\n",
    "                \"mustn't\":\"must not\"}\n",
    "neg_pattern = re.compile(r'\\b(' + '|'.join(negations_dic.keys()) + r')\\b')\n",
    "\n",
    "def tweet_cleaner(text):\n",
    "    soup = BeautifulSoup(text, 'lxml')\n",
    "    souped = soup.get_text()\n",
    "    try:\n",
    "        bom_removed = souped.decode(\"utf-8-sig\").replace(u\"\\ufffd\", \"?\")\n",
    "    except:\n",
    "        bom_removed = souped\n",
    "    stripped = re.sub(at_user_pat, 'USERNAME', bom_removed)\n",
    "    stripped = re.sub(url_pat, 'URL', stripped)\n",
    "    stripped = re.sub(www_pat, 'URL', stripped)\n",
    "    stripped = re.sub(repeating_chars_pat, r'\\1\\1', stripped)\n",
    "    \n",
    "    lower_case = stripped.lower()\n",
    "    neg_handled = neg_pattern.sub(lambda x: negations_dic[x.group()], lower_case)\n",
    "    letters_only = re.sub(\"[^a-zA-Z]\", \" \", neg_handled)\n",
    "    # During the letters_only process two lines above, it has created unnecessay white spaces,\n",
    "    # I will tokenize and join together to remove unneccessary white spaces\n",
    "    words = [x for x  in tok.tokenize(letters_only) if len(x) > 1]\n",
    "    return (\" \".join(words)).strip()\n",
    "\n",
    "udf_tweet_cleaner = udf(tweet_cleaner)"
   ]
  },
  {
   "cell_type": "code",
   "execution_count": 31,
   "metadata": {},
   "outputs": [],
   "source": [
    "text_preprocessed = df_raw.withColumn(\"text_preprocessed\", udf_tweet_cleaner(col(\"text\")))"
   ]
  },
  {
   "cell_type": "code",
   "execution_count": 32,
   "metadata": {
    "scrolled": true
   },
   "outputs": [
    {
     "name": "stdout",
     "output_type": "stream",
     "text": [
      "+--------+---------------------------------------------------------------------------------------------------------------------+\n",
      "|polarity|text                                                                                                                 |\n",
      "+--------+---------------------------------------------------------------------------------------------------------------------+\n",
      "|0       |@switchfoot http://twitpic.com/2y1zl - Awww, that's a bummer.  You shoulda got David Carr of Third Day to do it. ;D  |\n",
      "|0       |is upset that he can't update his Facebook by texting it... and might cry as a result  School today also. Blah!      |\n",
      "|0       |@Kenichan I dived many times for the ball. Managed to save 50%  The rest go out of bounds                            |\n",
      "|0       |my whole body feels itchy and like its on fire                                                                       |\n",
      "|0       |@nationwideclass no, it's not behaving at all. i'm mad. why am i here? because I can't see you all over there.       |\n",
      "|0       |@Kwesidei not the whole crew                                                                                         |\n",
      "|0       |Need a hug                                                                                                           |\n",
      "|0       |@LOLTrish hey  long time no see! Yes.. Rains a bit ,only a bit  LOL , I'm fine thanks , how's you ?                  |\n",
      "|0       |@Tatiana_K nope they didn't have it                                                                                  |\n",
      "|0       |@twittera que me muera ?                                                                                             |\n",
      "|0       |spring break in plain city... it's snowing                                                                           |\n",
      "|0       |I just re-pierced my ears                                                                                            |\n",
      "|0       |@caregiving I couldn't bear to watch it.  And I thought the UA loss was embarrassing . . . . .                       |\n",
      "|0       |@octolinz16 It it counts, idk why I did either. you never talk to me anymore                                         |\n",
      "|0       |@smarrison i would've been the first, but i didn't have a gun.    not really though, zac snyder's just a doucheclown.|\n",
      "|0       |@iamjazzyfizzle I wish I got to watch it with you!! I miss you and @iamlilnicki  how was the premiere?!              |\n",
      "|0       |Hollis' death scene will hurt me severely to watch on film  wry is directors cut not out now?                        |\n",
      "|0       |about to file taxes                                                                                                  |\n",
      "|0       |@LettyA ahh ive always wanted to see rent  love the soundtrack!!                                                     |\n",
      "|0       |@FakerPattyPattz Oh dear. Were you drinking out of the forgotten table drinks?                                       |\n",
      "+--------+---------------------------------------------------------------------------------------------------------------------+\n",
      "only showing top 20 rows\n",
      "\n"
     ]
    }
   ],
   "source": [
    "text_preprocessed.select(\"polarity\", \"text\").show(truncate=False)"
   ]
  },
  {
   "cell_type": "code",
   "execution_count": 33,
   "metadata": {
    "scrolled": true
   },
   "outputs": [
    {
     "name": "stdout",
     "output_type": "stream",
     "text": [
      "+--------+---------------------------------------------------------------------------------------------------------+\n",
      "|polarity|text_preprocessed                                                                                        |\n",
      "+--------+---------------------------------------------------------------------------------------------------------+\n",
      "|0       |username url aww that bummer you shoulda got david carr of third day to do it                            |\n",
      "|0       |is upset that he can not update his facebook by texting it and might cry as result school today also blah|\n",
      "|0       |username dived many times for the ball managed to save the rest go out of bounds                         |\n",
      "|0       |my whole body feels itchy and like its on fire                                                           |\n",
      "|0       |username no it not behaving at all mad why am here because can not see you all over there                |\n",
      "|0       |username not the whole crew                                                                              |\n",
      "|0       |need hug                                                                                                 |\n",
      "|0       |username hey long time no see yes rains bit only bit lol fine thanks how you                             |\n",
      "|0       |username nope they did not have it                                                                       |\n",
      "|0       |username que me muera                                                                                    |\n",
      "|0       |spring break in plain city it snowing                                                                    |\n",
      "|0       |just re pierced my ears                                                                                  |\n",
      "|0       |username could not bear to watch it and thought the ua loss was embarrassing                             |\n",
      "|0       |username it it counts idk why did either you never talk to me anymore                                    |\n",
      "|0       |username would ve been the first but did not have gun not really though zac snyder just doucheclown      |\n",
      "|0       |username wish got to watch it with you miss you and username how was the premiere                        |\n",
      "|0       |hollis death scene will hurt me severely to watch on film wry is directors cut not out now               |\n",
      "|0       |about to file taxes                                                                                      |\n",
      "|0       |username ahh ive always wanted to see rent love the soundtrack                                           |\n",
      "|0       |username oh dear were you drinking out of the forgotten table drinks                                     |\n",
      "+--------+---------------------------------------------------------------------------------------------------------+\n",
      "only showing top 20 rows\n",
      "\n"
     ]
    }
   ],
   "source": [
    "text_preprocessed.select(\"polarity\", \"text_preprocessed\").show(truncate=False)"
   ]
  },
  {
   "cell_type": "code",
   "execution_count": null,
   "metadata": {},
   "outputs": [],
   "source": []
  }
 ],
 "metadata": {
  "kernelspec": {
   "display_name": "Python 3",
   "language": "python",
   "name": "python3"
  },
  "language_info": {
   "codemirror_mode": {
    "name": "ipython",
    "version": 3
   },
   "file_extension": ".py",
   "mimetype": "text/x-python",
   "name": "python",
   "nbconvert_exporter": "python",
   "pygments_lexer": "ipython3",
   "version": "3.6.3"
  }
 },
 "nbformat": 4,
 "nbformat_minor": 2
}
