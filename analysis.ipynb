{
 "cells": [
  {
   "cell_type": "code",
   "execution_count": 1,
   "metadata": {
    "scrolled": true
   },
   "outputs": [],
   "source": [
    "from pyspark.ml.feature import RegexTokenizer, HashingTF, IDF, CountVectorizer, Normalizer\n",
    "from pyspark.sql.functions import col, udf\n",
    "from pyspark.sql.types import IntegerType, DoubleType, StringType, StructType, StructField\n",
    "from pyspark.sql import SparkSession\n",
    "from pyspark.ml.feature import StopWordsRemover\n",
    "from nltk.sentiment import SentimentIntensityAnalyzer\n",
    "from pyspark.ml import Pipeline, PipelineModel\n",
    "import pyspark"
   ]
  },
  {
   "cell_type": "markdown",
   "metadata": {},
   "source": [
    "# Data Retrieval"
   ]
  },
  {
   "cell_type": "code",
   "execution_count": 2,
   "metadata": {
    "scrolled": true
   },
   "outputs": [],
   "source": [
    "data_file = r\"/home/jovyan/repos/distributed-sentiment-analysis-on-twitter-data/twitter_scraper/twitter_data_final.csv\"\n",
    "vader_analyzer = SentimentIntensityAnalyzer()"
   ]
  },
  {
   "cell_type": "code",
   "execution_count": 3,
   "metadata": {},
   "outputs": [],
   "source": [
    "conf = pyspark.SparkConf().setAll([('spark.executor.memory', '2g'),\n",
    "                                   ('spark.executor.cores', '3'), # 4\n",
    "                                   ('spark.cores.max', '3'), # 4\n",
    "                                   ('spark.driver.memory','4g')])\n",
    "\n",
    "# Initialize a Spark session\n",
    "spark = SparkSession \\\n",
    "    .builder \\\n",
    "    .appName(\"SentimentAnalysis\") \\\n",
    "    .config(conf=conf) \\\n",
    "    .getOrCreate()\n",
    "\n",
    "sc = spark.sparkContext"
   ]
  },
  {
   "cell_type": "code",
   "execution_count": 4,
   "metadata": {},
   "outputs": [
    {
     "data": {
      "text/plain": [
       "[('spark.executor.memory', '2g'),\n",
       " ('spark.driver.memory', '4g'),\n",
       " ('spark.executor.id', 'driver'),\n",
       " ('spark.app.id', 'local-1524036857806'),\n",
       " ('spark.cores.max', '3'),\n",
       " ('spark.driver.port', '39319'),\n",
       " ('spark.driver.host', 'de4f1c03e850'),\n",
       " ('spark.rdd.compress', 'True'),\n",
       " ('spark.serializer.objectStreamReset', '100'),\n",
       " ('spark.master', 'local[*]'),\n",
       " ('spark.executor.cores', '3'),\n",
       " ('spark.submit.deployMode', 'client'),\n",
       " ('spark.app.name', 'SentimentAnalysis'),\n",
       " ('spark.ui.showConsoleProgress', 'true')]"
      ]
     },
     "execution_count": 4,
     "metadata": {},
     "output_type": "execute_result"
    }
   ],
   "source": [
    "sc.getConf().getAll()"
   ]
  },
  {
   "cell_type": "code",
   "execution_count": 5,
   "metadata": {},
   "outputs": [],
   "source": [
    "# define the data schema(format/structure) for our twitter data in the csv file\n",
    "twitter_data_schema = StructType([StructField(\"date_str\", StringType(), True),\n",
    "                                  StructField(\"tweet_id\", StringType(), True),\n",
    "                                  StructField(\"text\", StringType(), True),\n",
    "                                  StructField(\"location\", StringType(), True),\n",
    "                                  StructField(\"user_id\", StringType(), True),\n",
    "                                  StructField(\"user_name\", StringType(), True),\n",
    "                                  StructField(\"user_location\", StringType(), True),\n",
    "                                  StructField(\"user_url\", StringType(), True),\n",
    "                                  StructField(\"user_description\", StringType(), True),\n",
    "                                  StructField(\"place_id\", StringType(), True),\n",
    "                                  StructField(\"place_url\", StringType(), True),\n",
    "                                  StructField(\"place_type\", StringType(), True),\n",
    "                                  StructField(\"place_countrycode\", StringType(), True),\n",
    "                                  StructField(\"place_country\", StringType(), True),\n",
    "                                  StructField(\"place_boundingboxtype\", StringType(), True),\n",
    "                                  StructField(\"entities_hashtags\", StringType(), True),\n",
    "                                  StructField(\"entities_urls\", StringType(), True),\n",
    "                                  StructField(\"entities_mentions\", StringType(), True),\n",
    "                                  StructField(\"entities_symbols\", StringType(), True),\n",
    "                                  StructField(\"entities_media\", StringType(), True),\n",
    "                                  StructField(\"entities_polls\", StringType(), True),])"
   ]
  },
  {
   "cell_type": "code",
   "execution_count": 6,
   "metadata": {},
   "outputs": [],
   "source": [
    "df_raw = spark.read.csv(\n",
    "    data_file, schema=twitter_data_schema\n",
    ")"
   ]
  },
  {
   "cell_type": "code",
   "execution_count": 7,
   "metadata": {},
   "outputs": [],
   "source": [
    "text_and_loc_only = df_raw.select(\"text\", \"location\")"
   ]
  },
  {
   "cell_type": "code",
   "execution_count": 8,
   "metadata": {},
   "outputs": [
    {
     "data": {
      "text/plain": [
       "156011"
      ]
     },
     "execution_count": 8,
     "metadata": {},
     "output_type": "execute_result"
    }
   ],
   "source": [
    "text_and_loc_only.cache()\n",
    "\n",
    "text_and_loc_only.count()"
   ]
  },
  {
   "cell_type": "markdown",
   "metadata": {},
   "source": [
    "# Tweet Cleaning Function"
   ]
  },
  {
   "cell_type": "code",
   "execution_count": 9,
   "metadata": {},
   "outputs": [],
   "source": [
    "import re\n",
    "from bs4 import BeautifulSoup\n",
    "from nltk.tokenize import WordPunctTokenizer\n",
    "tok = WordPunctTokenizer()\n",
    "\n",
    "at_user_pat = r'@[A-Za-z0-9_]+'  # r'@[\\w]+'\n",
    "url_pat = r'https?://[^ ]+'  # r'https?:\\/\\/[^\\s]+'\n",
    "www_pat = r'www.[^ ]+'\n",
    "repeating_chars_pat = r'([A-Za-z])\\1+'\n",
    "negations_dic = {\"isn't\":\"is not\", \"aren't\":\"are not\", \"wasn't\":\"was not\", \"weren't\":\"were not\",\n",
    "                \"haven't\":\"have not\",\"hasn't\":\"has not\",\"hadn't\":\"had not\",\"won't\":\"will not\",\n",
    "                \"wouldn't\":\"would not\", \"don't\":\"do not\", \"doesn't\":\"does not\",\"didn't\":\"did not\",\n",
    "                \"can't\":\"can not\",\"couldn't\":\"could not\",\"shouldn't\":\"should not\",\"mightn't\":\"might not\",\n",
    "                \"mustn't\":\"must not\"}\n",
    "neg_pattern = re.compile(r'\\b(' + '|'.join(negations_dic.keys()) + r')\\b')\n",
    "\n",
    "def tweet_cleaner(text):\n",
    "    soup = BeautifulSoup(text, 'lxml')\n",
    "    souped = soup.get_text()\n",
    "    try:\n",
    "        bom_removed = souped.decode(\"utf-8-sig\").replace(u\"\\ufffd\", \"?\")\n",
    "    except:\n",
    "        bom_removed = souped\n",
    "    stripped = re.sub(at_user_pat, 'USERNAME', bom_removed)\n",
    "    stripped = re.sub(url_pat, 'URL', stripped)\n",
    "    stripped = re.sub(www_pat, 'URL', stripped)\n",
    "    stripped = re.sub(repeating_chars_pat, r'\\1\\1', stripped)\n",
    "\n",
    "    lower_case = stripped.lower()\n",
    "    neg_handled = neg_pattern.sub(lambda x: negations_dic[x.group()], lower_case)\n",
    "    letters_only = re.sub(\"[^a-zA-Z]\", \" \", neg_handled)\n",
    "    # During the letters_only process two lines above, it has created unnecessay white spaces,\n",
    "    # I will tokenize and join together to remove unneccessary white spaces\n",
    "    words = [x for x in tok.tokenize(letters_only) if len(x) > 1]\n",
    "    return (\" \".join(words)).strip()"
   ]
  },
  {
   "cell_type": "markdown",
   "metadata": {},
   "source": [
    "# Data Pre-Processing"
   ]
  },
  {
   "cell_type": "code",
   "execution_count": 10,
   "metadata": {
    "scrolled": true
   },
   "outputs": [
    {
     "name": "stdout",
     "output_type": "stream",
     "text": [
      "+--------------------+------------------+\n",
      "|                text|          location|\n",
      "+--------------------+------------------+\n",
      "|:thumbs_up::red_h...|     San Diego, CA|\n",
      "|USER_NAME Thank y...|          Waco, TX|\n",
      "|I am fucking cryi...|         Savoy, IL|\n",
      "|USER_NAME Get rid...|  Gaithersburg, MD|\n",
      "|My dog made me so...|       Baytown, TX|\n",
      "| Good kill USER_NAME|   Los Angeles, CA|\n",
      "|USER_NAME BEAUTIF...|    Valparaiso, IN|\n",
      "|I wanna play bask...|       Houston, TX|\n",
      "|My comfort zone :...|         Hobbs, NM|\n",
      "|people in flint, ...|Pembroke Pines, FL|\n",
      "|Looking through o...|    San Marcos, TX|\n",
      "|USER_NAME does ha...|       Kenosha, WI|\n",
      "|USER_NAME USER_NA...|     Livermore, CA|\n",
      "|Ryan was wonderin...|       Benicia, CA|\n",
      "|you truly are a p...|         Boise, ID|\n",
      "|So if anyone’s wa...|    Marysville, WA|\n",
      "|Why am I dying to...|       Hampton, GA|\n",
      "|      I miss him URL|      Pasadena, TX|\n",
      "|And now I truly f...|   Hattiesburg, MS|\n",
      "|YOU Inspire ME :h...| Jeffersontown, KY|\n",
      "+--------------------+------------------+\n",
      "only showing top 20 rows\n",
      "\n"
     ]
    }
   ],
   "source": [
    "df_filtered = text_and_loc_only.filter(\"location like '%,___'\")\n",
    "df_filtered.show(truncate=True)"
   ]
  },
  {
   "cell_type": "code",
   "execution_count": 11,
   "metadata": {},
   "outputs": [
    {
     "data": {
      "text/plain": [
       "96958"
      ]
     },
     "execution_count": 11,
     "metadata": {},
     "output_type": "execute_result"
    }
   ],
   "source": [
    "df_filtered.count()"
   ]
  },
  {
   "cell_type": "code",
   "execution_count": 12,
   "metadata": {
    "scrolled": true
   },
   "outputs": [
    {
     "name": "stdout",
     "output_type": "stream",
     "text": [
      "+--------------------+------------------+\n",
      "|                text|          location|\n",
      "+--------------------+------------------+\n",
      "|thumbs up red hea...|     San Diego, CA|\n",
      "|user name thank y...|          Waco, TX|\n",
      "|am fucking crying...|         Savoy, IL|\n",
      "|user name get rid...|  Gaithersburg, MD|\n",
      "|my dog made me so...|       Baytown, TX|\n",
      "| good kill user name|   Los Angeles, CA|\n",
      "|user name beautif...|    Valparaiso, IN|\n",
      "|wanna play basket...|       Houston, TX|\n",
      "|my comfort zone s...|         Hobbs, NM|\n",
      "|people in flint m...|Pembroke Pines, FL|\n",
      "|looking through o...|    San Marcos, TX|\n",
      "|user name does ha...|       Kenosha, WI|\n",
      "|user name user na...|     Livermore, CA|\n",
      "|ryan was wonderin...|       Benicia, CA|\n",
      "|you truly are pie...|         Boise, ID|\n",
      "|so if anyone want...|    Marysville, WA|\n",
      "|why am dying to l...|       Hampton, GA|\n",
      "|        miss him url|      Pasadena, TX|\n",
      "|and now truly fee...|   Hattiesburg, MS|\n",
      "|you inspire me ho...| Jeffersontown, KY|\n",
      "+--------------------+------------------+\n",
      "only showing top 20 rows\n",
      "\n"
     ]
    }
   ],
   "source": [
    "udf_tweet_cleaner = udf(tweet_cleaner)\n",
    "df_preprocessed = df_filtered.withColumn(\"text\", udf_tweet_cleaner(col(\"text\")))\n",
    "df_preprocessed.show(truncate=True)"
   ]
  },
  {
   "cell_type": "code",
   "execution_count": 14,
   "metadata": {},
   "outputs": [
    {
     "data": {
      "text/plain": [
       "96958"
      ]
     },
     "execution_count": 14,
     "metadata": {},
     "output_type": "execute_result"
    }
   ],
   "source": [
    "df_preprocessed.cache()\n",
    "\n",
    "df_preprocessed.count()"
   ]
  },
  {
   "cell_type": "code",
   "execution_count": 13,
   "metadata": {},
   "outputs": [],
   "source": [
    "def count(text):\n",
    "    return 1\n",
    "\n",
    "udf_count = udf(count)"
   ]
  },
  {
   "cell_type": "markdown",
   "metadata": {},
   "source": [
    "# Ranking Result of NLTK Analyzer "
   ]
  },
  {
   "cell_type": "code",
   "execution_count": 70,
   "metadata": {},
   "outputs": [],
   "source": [
    "def nltk_prediction(text):\n",
    "    result = vader_analyzer.polarity_scores(str(text))\n",
    "    prediction = 1 if result['compound'] >= 0 else 0\n",
    "\n",
    "    return prediction\n",
    "\n",
    "udf_nltk_prediction = udf(nltk_prediction)"
   ]
  },
  {
   "cell_type": "code",
   "execution_count": 69,
   "metadata": {},
   "outputs": [],
   "source": [
    "def nltk_score(text):\n",
    "    result = vader_analyzer.polarity_scores(str(text))\n",
    "    prediction = result['compound']\n",
    "\n",
    "    return prediction\n",
    "\n",
    "udf_nltk_score = udf(nltk_score)"
   ]
  },
  {
   "cell_type": "code",
   "execution_count": 71,
   "metadata": {},
   "outputs": [
    {
     "data": {
      "text/plain": [
       "96958"
      ]
     },
     "execution_count": 71,
     "metadata": {},
     "output_type": "execute_result"
    }
   ],
   "source": [
    "df_scored = df_preprocessed.withColumn(\"prediction\", udf_nltk_prediction(col(\"text\")))\n",
    "df_scored = df_scored.withColumn(\"score\", udf_nltk_score(col(\"text\")))\n",
    "df_scored = df_scored.withColumn(\"count\", udf_count(col(\"text\")))\n",
    "\n",
    "df_scored.cache()\n",
    "df_scored.count()"
   ]
  },
  {
   "cell_type": "code",
   "execution_count": 72,
   "metadata": {
    "scrolled": true
   },
   "outputs": [
    {
     "name": "stdout",
     "output_type": "stream",
     "text": [
      "+-----------------+------------------+----------+\n",
      "|         location|   avg(prediction)|sum(count)|\n",
      "+-----------------+------------------+----------+\n",
      "|      Garrett, IN|0.9623115577889447|     398.0|\n",
      "|        Indio, CA|0.8706624605678234|     317.0|\n",
      "|       Dayton, OH|0.8483412322274881|     211.0|\n",
      "|   Enterprise, NV|0.8202614379084967|     306.0|\n",
      "|    Las Vegas, NV|0.8172169811320755|     848.0|\n",
      "|    Manhattan, NY| 0.813033359193173|    1289.0|\n",
      "|       Boston, MA|0.8088888888888889|     225.0|\n",
      "|       Denver, CO|0.8074712643678161|     348.0|\n",
      "|       Queens, NY|0.8034782608695652|     575.0|\n",
      "|     Paradise, NV|0.8013513513513514|     740.0|\n",
      "|   Long Beach, CA|0.8012048192771084|     498.0|\n",
      "|    Henderson, NV|0.7908496732026143|     306.0|\n",
      "|San Francisco, CA| 0.790356394129979|     954.0|\n",
      "|     Columbus, OH|0.7901234567901234|     405.0|\n",
      "|    San Diego, CA|0.7898866608544028|    1147.0|\n",
      "| Prairie View, TX|0.7897727272727273|     352.0|\n",
      "|       Tucson, AZ|0.7890995260663507|     422.0|\n",
      "|      Seattle, WA|0.7881219903691814|     623.0|\n",
      "|      Anaheim, CA|0.7874659400544959|     367.0|\n",
      "|         Mesa, AZ|0.7866666666666666|     225.0|\n",
      "|        Bronx, NY|0.7857142857142857|     364.0|\n",
      "|       Denton, TX|0.7854785478547854|     303.0|\n",
      "|      El Paso, TX|0.7728531855955678|     361.0|\n",
      "|  Tallahassee, FL|0.7725947521865889|     343.0|\n",
      "|     Portland, OR| 0.765748031496063|     508.0|\n",
      "|   Washington, DC|0.7642857142857142|     560.0|\n",
      "|     San Jose, CA|0.7637795275590551|     635.0|\n",
      "|  Los Angeles, CA|0.7630491926398798|    5326.0|\n",
      "|     Honolulu, HI|0.7628083491461101|     527.0|\n",
      "|Oklahoma City, OK|0.7610062893081762|     318.0|\n",
      "|Sunrise Manor, NV| 0.758893280632411|     253.0|\n",
      "|   Fort Worth, TX| 0.758695652173913|     460.0|\n",
      "|     Brooklyn, NY|0.7566371681415929|     678.0|\n",
      "|      Phoenix, AZ|0.7564534231200898|     891.0|\n",
      "|    Riverside, CA|0.7547169811320755|     371.0|\n",
      "|      Chicago, IL|0.7543859649122807|    1539.0|\n",
      "|     Richmond, VA|0.7540983606557377|     244.0|\n",
      "|    Arlington, TX|0.7524752475247525|     303.0|\n",
      "|   Sacramento, CA|0.7507788161993769|     321.0|\n",
      "|   Greensboro, NC|0.7503001200480192|     833.0|\n",
      "|      Jackson, MS|0.7488372093023256|     215.0|\n",
      "|   Montgomery, AL|0.7477203647416414|     329.0|\n",
      "|       Dallas, TX| 0.747141041931385|     787.0|\n",
      "|      Fontana, CA| 0.746031746031746|     252.0|\n",
      "|   Huntsville, AL| 0.746031746031746|     252.0|\n",
      "|   San Marcos, TX|0.7456140350877193|     342.0|\n",
      "|        Tempe, AZ|0.7455089820359282|     334.0|\n",
      "|       Austin, TX|0.7427258805513017|     653.0|\n",
      "|     Stockton, CA|0.7418032786885246|     244.0|\n",
      "| Philadelphia, PA|0.7384615384615385|     650.0|\n",
      "|  New Orleans, LA|0.7291361639824304|     683.0|\n",
      "|  Baton Rouge, LA|0.7286135693215339|     339.0|\n",
      "|  Bakersfield, CA|0.7258064516129032|     372.0|\n",
      "|  San Antonio, TX| 0.725790987535954|    1043.0|\n",
      "|       Fresno, CA|0.7257019438444925|     463.0|\n",
      "|      Atlanta, GA|0.7230359520639148|     751.0|\n",
      "|      Houston, TX|0.7220093656875266|    2349.0|\n",
      "|      Oakland, CA|0.7189873417721518|     395.0|\n",
      "|    Nashville, TN|0.7179878048780488|     656.0|\n",
      "|        Tampa, FL|0.7107843137254902|     204.0|\n",
      "|       Durham, NC|0.6996336996336996|     273.0|\n",
      "|      Memphis, TN|0.6947040498442367|     321.0|\n",
      "| Indianapolis, IN|0.6942148760330579|     242.0|\n",
      "|      Norfolk, VA|0.6936936936936937|     222.0|\n",
      "|      Detroit, MI|0.6868686868686869|     297.0|\n",
      "|    Baltimore, MD|0.6685082872928176|     362.0|\n",
      "|    Charlotte, NC|0.6376306620209059|     287.0|\n",
      "+-----------------+------------------+----------+\n",
      "\n"
     ]
    }
   ],
   "source": [
    "# Ranking by averaging 1/0 values\n",
    "df_scored.groupBy('location').agg({'prediction': 'avg', 'count': 'sum'}).filter(col('sum(count)') > 200).sort('avg(prediction)', ascending=False).show(n=1000)"
   ]
  },
  {
   "cell_type": "code",
   "execution_count": 73,
   "metadata": {
    "scrolled": true
   },
   "outputs": [
    {
     "name": "stdout",
     "output_type": "stream",
     "text": [
      "+-----------------+--------------------+----------+\n",
      "|         location|          avg(score)|sum(count)|\n",
      "+-----------------+--------------------+----------+\n",
      "|       Dayton, OH|  0.1744227488151659|     211.0|\n",
      "|         Mesa, AZ| 0.16151333333333337|     225.0|\n",
      "|      Anaheim, CA| 0.15517384196185285|     367.0|\n",
      "|   Long Beach, CA| 0.14699759036144583|     498.0|\n",
      "|       Denton, TX| 0.14574785478547855|     303.0|\n",
      "|     Columbus, OH| 0.14424370370370374|     405.0|\n",
      "|    Manhattan, NY| 0.13960256012412714|    1289.0|\n",
      "|     Portland, OR| 0.13648405511811024|     508.0|\n",
      "|       Tucson, AZ|  0.1359649289099526|     422.0|\n",
      "|       Boston, MA|  0.1310991111111111|     225.0|\n",
      "|      Seattle, WA| 0.12837383627608348|     623.0|\n",
      "|    Henderson, NV| 0.12800718954248366|     306.0|\n",
      "|Sunrise Manor, NV| 0.12630948616600793|     253.0|\n",
      "|     Paradise, NV| 0.12502067567567568|     740.0|\n",
      "|    San Diego, CA| 0.12257053182214471|    1147.0|\n",
      "|     Honolulu, HI| 0.12249582542694501|     527.0|\n",
      "|      El Paso, TX| 0.12054155124653738|     361.0|\n",
      "|   Montgomery, AL|   0.119258358662614|     329.0|\n",
      "|       Denver, CO| 0.11636264367816092|     348.0|\n",
      "|   Greensboro, NC| 0.11092773109243698|     833.0|\n",
      "|   Enterprise, NV| 0.11051732026143792|     306.0|\n",
      "|San Francisco, CA| 0.10857851153039834|     954.0|\n",
      "|  Baton Rouge, LA| 0.10639085545722715|     339.0|\n",
      "|    Las Vegas, NV| 0.10586733490566037|     848.0|\n",
      "|   Sacramento, CA| 0.10330903426791277|     321.0|\n",
      "|       Durham, NC| 0.10239230769230769|     273.0|\n",
      "|  Los Angeles, CA| 0.10208066090874943|    5326.0|\n",
      "|     San Jose, CA|  0.1016475590551181|     635.0|\n",
      "|   Fort Worth, TX| 0.10001391304347829|     460.0|\n",
      "|    Arlington, TX| 0.09697557755775577|     303.0|\n",
      "|      Phoenix, AZ|  0.0963892255892256|     891.0|\n",
      "|Oklahoma City, OK| 0.09614182389937106|     318.0|\n",
      "|       Austin, TX| 0.09295344563552833|     653.0|\n",
      "|     Richmond, VA| 0.09269057377049182|     244.0|\n",
      "|   San Marcos, TX|  0.0908251461988304|     342.0|\n",
      "|       Queens, NY| 0.08960504347826084|     575.0|\n",
      "|       Dallas, TX| 0.08515972045743332|     787.0|\n",
      "|      Chicago, IL| 0.08388388564002602|    1539.0|\n",
      "|      Fontana, CA| 0.08167817460317463|     252.0|\n",
      "|        Bronx, NY| 0.08151648351648352|     364.0|\n",
      "|   Washington, DC| 0.07943500000000002|     560.0|\n",
      "| Prairie View, TX| 0.07900369318181819|     352.0|\n",
      "|        Tempe, AZ|  0.0779505988023952|     334.0|\n",
      "|  Tallahassee, FL| 0.07744460641399419|     343.0|\n",
      "|    Riverside, CA| 0.07419407008086255|     371.0|\n",
      "|        Indio, CA| 0.07285236593059938|     317.0|\n",
      "|      Houston, TX| 0.07223073648361004|    2349.0|\n",
      "|       Fresno, CA| 0.07051252699784018|     463.0|\n",
      "|      Detroit, MI| 0.06942525252525253|     297.0|\n",
      "|  Bakersfield, CA|  0.0674016129032258|     372.0|\n",
      "|     Brooklyn, NY| 0.06661725663716812|     678.0|\n",
      "|      Memphis, TN| 0.06652367601246106|     321.0|\n",
      "|  San Antonio, TX| 0.06478168744007672|    1043.0|\n",
      "|    Nashville, TN| 0.05957789634146342|     656.0|\n",
      "|  New Orleans, LA| 0.05953308931185946|     683.0|\n",
      "|      Jackson, MS| 0.05900093023255813|     215.0|\n",
      "| Indianapolis, IN|  0.0560396694214876|     242.0|\n",
      "|   Huntsville, AL| 0.05298730158730158|     252.0|\n",
      "|      Oakland, CA| 0.05241012658227848|     395.0|\n",
      "|     Stockton, CA|0.050198770491803275|     244.0|\n",
      "|      Norfolk, VA| 0.04877612612612612|     222.0|\n",
      "|      Atlanta, GA| 0.04120932090545939|     751.0|\n",
      "| Philadelphia, PA| 0.03839600000000001|     650.0|\n",
      "|    Baltimore, MD| 0.02876685082872929|     362.0|\n",
      "|        Tampa, FL|0.014316666666666677|     204.0|\n",
      "|      Garrett, IN|-0.00786859296482...|     398.0|\n",
      "|    Charlotte, NC|-0.02157212543554007|     287.0|\n",
      "+-----------------+--------------------+----------+\n",
      "\n"
     ]
    }
   ],
   "source": [
    "# Ranking by averaging compound scores\n",
    "df_scored.groupBy('location').agg({'score': 'avg', 'count': 'sum'}).filter(col('sum(count)') > 200).sort('avg(score)', ascending=False).show(n=1000)"
   ]
  },
  {
   "cell_type": "markdown",
   "metadata": {},
   "source": [
    "# Ranking Result of Logistic Regression"
   ]
  },
  {
   "cell_type": "code",
   "execution_count": 45,
   "metadata": {},
   "outputs": [],
   "source": [
    "def extract_probability(input):\n",
    "    return input.toArray().tolist()[1]\n",
    "\n",
    "udf_extract_probability = udf(extract_probability)"
   ]
  },
  {
   "cell_type": "code",
   "execution_count": 15,
   "metadata": {},
   "outputs": [],
   "source": [
    "trigramwocs_pipelineFit_loaded = PipelineModel.load(\"ngram_cv_idf_lr\")"
   ]
  },
  {
   "cell_type": "code",
   "execution_count": 16,
   "metadata": {},
   "outputs": [
    {
     "name": "stdout",
     "output_type": "stream",
     "text": [
      "CPU times: user 40 ms, sys: 20 ms, total: 60 ms\n",
      "Wall time: 8.85 s\n"
     ]
    }
   ],
   "source": [
    "%%time\n",
    "df_ngram_cv_idf_lr = trigramwocs_pipelineFit_loaded.transform(df_preprocessed)\n",
    "\n",
    "df_ngram_cv_idf_lr = df_ngram_cv_idf_lr.withColumn(\"count\", udf_count(col(\"text\")))\n",
    "df_ngram_cv_idf_lr = df_ngram_cv_idf_lr.withColumn(\"score\", udf_extract_probability(df_ngram_cv_idf_lr.probability))\n",
    "\n",
    "df_ngram_cv_idf_lr.cache()\n",
    "df_ngram_cv_idf_lr.count()"
   ]
  },
  {
   "cell_type": "code",
   "execution_count": 42,
   "metadata": {
    "scrolled": true
   },
   "outputs": [
    {
     "name": "stdout",
     "output_type": "stream",
     "text": [
      "+-----------------+------------------+----------+\n",
      "|         location|   avg(prediction)|sum(count)|\n",
      "+-----------------+------------------+----------+\n",
      "|      Garrett, IN| 0.949748743718593|     398.0|\n",
      "|        Indio, CA|0.7917981072555205|     317.0|\n",
      "|    Manhattan, NY|0.7812257564003103|    1289.0|\n",
      "|    Las Vegas, NV|0.7783018867924528|     848.0|\n",
      "|     Paradise, NV|0.7756756756756756|     740.0|\n",
      "|   Enterprise, NV|0.7745098039215687|     306.0|\n",
      "|     Columbus, OH|0.7407407407407407|     405.0|\n",
      "|      Seattle, WA|0.7319422150882825|     623.0|\n",
      "|    San Diego, CA|0.7271142109851787|    1147.0|\n",
      "|       Boston, MA|0.7244444444444444|     225.0|\n",
      "|     Portland, OR|0.7244094488188977|     508.0|\n",
      "|        Bronx, NY|0.7225274725274725|     364.0|\n",
      "|     Brooklyn, NY|0.7182890855457227|     678.0|\n",
      "|       Dayton, OH|0.7156398104265402|     211.0|\n",
      "|       Denver, CO|0.7155172413793104|     348.0|\n",
      "|San Francisco, CA|0.7148846960167715|     954.0|\n",
      "|      Chicago, IL|0.7115009746588694|    1539.0|\n",
      "|         Mesa, AZ|0.7111111111111111|     225.0|\n",
      "|    Henderson, NV|0.7058823529411765|     306.0|\n",
      "|      Memphis, TN|0.7040498442367601|     321.0|\n",
      "|     Honolulu, HI|0.7039848197343453|     527.0|\n",
      "|  Los Angeles, CA|0.7029665790461885|    5326.0|\n",
      "|       Queens, NY|0.6991304347826087|     575.0|\n",
      "|  Bakersfield, CA|0.6908602150537635|     372.0|\n",
      "|   Long Beach, CA|0.6907630522088354|     498.0|\n",
      "|     Richmond, VA| 0.680327868852459|     244.0|\n",
      "|      Anaheim, CA|0.6784741144414169|     367.0|\n",
      "|       Tucson, AZ|0.6777251184834123|     422.0|\n",
      "|      Atlanta, GA|0.6764314247669774|     751.0|\n",
      "|        Tempe, AZ|0.6736526946107785|     334.0|\n",
      "|       Austin, TX|0.6722817764165391|     653.0|\n",
      "|  Tallahassee, FL|0.6705539358600583|     343.0|\n",
      "|      Oakland, CA|0.6683544303797468|     395.0|\n",
      "|        Tampa, FL|0.6666666666666666|     204.0|\n",
      "|   Washington, DC|0.6589285714285714|     560.0|\n",
      "|       Dallas, TX|0.6569250317662008|     787.0|\n",
      "|       Denton, TX|0.6567656765676567|     303.0|\n",
      "|     San Jose, CA|0.6566929133858268|     635.0|\n",
      "|     Stockton, CA|0.6557377049180327|     244.0|\n",
      "|      Phoenix, AZ|0.6554433221099888|     891.0|\n",
      "|    Nashville, TN|0.6539634146341463|     656.0|\n",
      "|      El Paso, TX|0.6481994459833795|     361.0|\n",
      "|Oklahoma City, OK|0.6477987421383647|     318.0|\n",
      "|    Riverside, CA|0.6442048517520216|     371.0|\n",
      "|    Arlington, TX|0.6402640264026402|     303.0|\n",
      "|   Huntsville, AL|0.6388888888888888|     252.0|\n",
      "|       Fresno, CA|0.6328293736501079|     463.0|\n",
      "|   Sacramento, CA|0.6292834890965732|     321.0|\n",
      "| Indianapolis, IN| 0.628099173553719|     242.0|\n",
      "|  San Antonio, TX|0.6222435282837967|    1043.0|\n",
      "|      Houston, TX|0.6215410813111962|    2349.0|\n",
      "|   Fort Worth, TX|0.6130434782608696|     460.0|\n",
      "|      Jackson, MS|0.6093023255813953|     215.0|\n",
      "|   San Marcos, TX|0.6081871345029239|     342.0|\n",
      "|    Charlotte, NC|0.6062717770034843|     287.0|\n",
      "|Sunrise Manor, NV|0.6047430830039525|     253.0|\n",
      "| Philadelphia, PA|0.6030769230769231|     650.0|\n",
      "|   Montgomery, AL|0.5987841945288754|     329.0|\n",
      "|      Fontana, CA|0.5912698412698413|     252.0|\n",
      "|  New Orleans, LA|0.5841874084919473|     683.0|\n",
      "| Prairie View, TX|0.5823863636363636|     352.0|\n",
      "|    Baltimore, MD| 0.574585635359116|     362.0|\n",
      "|   Greensboro, NC|0.5690276110444178|     833.0|\n",
      "|  Baton Rouge, LA|  0.56047197640118|     339.0|\n",
      "|      Norfolk, VA| 0.545045045045045|     222.0|\n",
      "|      Detroit, MI|0.5420875420875421|     297.0|\n",
      "|       Durham, NC|0.5164835164835165|     273.0|\n",
      "+-----------------+------------------+----------+\n",
      "\n"
     ]
    }
   ],
   "source": [
    "# Ranking by averaging 1/0 values\n",
    "df_ngram_cv_idf_lr.groupBy('location').agg({'prediction': 'avg', 'count': 'sum'}).filter(col('sum(count)') > 200).sort('avg(prediction)', ascending=False).show(n=1000)"
   ]
  },
  {
   "cell_type": "code",
   "execution_count": 43,
   "metadata": {
    "scrolled": true
   },
   "outputs": [
    {
     "name": "stdout",
     "output_type": "stream",
     "text": [
      "+-----------------+------------------+----------+\n",
      "|         location|        avg(score)|sum(count)|\n",
      "+-----------------+------------------+----------+\n",
      "|        Indio, CA|0.7245208035809556|     317.0|\n",
      "|    Manhattan, NY|0.6623431055795451|    1289.0|\n",
      "|     Paradise, NV|0.6475812177109463|     740.0|\n",
      "|   Enterprise, NV| 0.639097519482643|     306.0|\n",
      "|      Seattle, WA|0.6381876633733661|     623.0|\n",
      "|    Las Vegas, NV|0.6337571101436307|     848.0|\n",
      "|       Boston, MA|0.6307830193089408|     225.0|\n",
      "|     Portland, OR|0.6267392730646126|     508.0|\n",
      "|San Francisco, CA|0.6263860393874178|     954.0|\n",
      "|         Mesa, AZ|0.6127656225186913|     225.0|\n",
      "|    San Diego, CA|0.6127165498721924|    1147.0|\n",
      "|     Brooklyn, NY|0.6116889320228371|     678.0|\n",
      "|     Columbus, OH|0.6088577375317159|     405.0|\n",
      "|      Chicago, IL|0.6085637549272475|    1539.0|\n",
      "|       Dayton, OH| 0.606674197831893|     211.0|\n",
      "|  Los Angeles, CA|0.6064917376102913|    5326.0|\n",
      "|       Tucson, AZ|0.6052426105194849|     422.0|\n",
      "|       Queens, NY|0.6034114807444052|     575.0|\n",
      "|        Bronx, NY|0.6033010103141625|     364.0|\n",
      "|    Henderson, NV|0.5991193497163018|     306.0|\n",
      "|     Honolulu, HI|0.5990072895345993|     527.0|\n",
      "|      Anaheim, CA|0.5989489303695067|     367.0|\n",
      "|       Denver, CO|0.5980622739782442|     348.0|\n",
      "|   Long Beach, CA| 0.597127820172513|     498.0|\n",
      "|      Memphis, TN|0.5893253726796417|     321.0|\n",
      "|      Atlanta, GA|0.5860006327632693|     751.0|\n",
      "|        Tampa, FL|0.5854490033581855|     204.0|\n",
      "|       Austin, TX|0.5844572026375835|     653.0|\n",
      "|  Bakersfield, CA|0.5842757439707281|     372.0|\n",
      "|     Richmond, VA|0.5838702678049653|     244.0|\n",
      "|   Washington, DC|0.5832718339644257|     560.0|\n",
      "|      Phoenix, AZ|0.5794810431881737|     891.0|\n",
      "|        Tempe, AZ|0.5781901192978862|     334.0|\n",
      "|Oklahoma City, OK|0.5751764876512885|     318.0|\n",
      "|       Dallas, TX|0.5705547778330317|     787.0|\n",
      "|    Nashville, TN|0.5684613403637987|     656.0|\n",
      "|       Denton, TX|0.5672589775605436|     303.0|\n",
      "|     Stockton, CA|0.5670952111055283|     244.0|\n",
      "|      El Paso, TX| 0.566722485617944|     361.0|\n",
      "| Indianapolis, IN|0.5647520183683162|     242.0|\n",
      "|     San Jose, CA|0.5642100566408285|     635.0|\n",
      "|  Tallahassee, FL|0.5626470459756765|     343.0|\n",
      "|    Riverside, CA|0.5619195246426668|     371.0|\n",
      "|      Oakland, CA|0.5594584896883686|     395.0|\n",
      "|       Fresno, CA|0.5590115500864591|     463.0|\n",
      "|   Huntsville, AL|0.5569360670898975|     252.0|\n",
      "|      Jackson, MS|0.5558819190692891|     215.0|\n",
      "|    Arlington, TX|0.5553955600940537|     303.0|\n",
      "|   Fort Worth, TX|0.5532740291879559|     460.0|\n",
      "|   Sacramento, CA|0.5521486879602385|     321.0|\n",
      "|      Fontana, CA|0.5516962894840183|     252.0|\n",
      "|  San Antonio, TX|0.5512695065386429|    1043.0|\n",
      "|      Houston, TX|0.5504714975415091|    2349.0|\n",
      "|Sunrise Manor, NV|0.5470365660497957|     253.0|\n",
      "|   San Marcos, TX|0.5449673042609257|     342.0|\n",
      "|      Garrett, IN|0.5385379271516898|     398.0|\n",
      "|  New Orleans, LA|0.5345752346401295|     683.0|\n",
      "| Prairie View, TX|0.5305586579403874|     352.0|\n",
      "|    Charlotte, NC|0.5295974036967722|     287.0|\n",
      "|    Baltimore, MD|0.5283791900415747|     362.0|\n",
      "|   Montgomery, AL|0.5273156092729255|     329.0|\n",
      "| Philadelphia, PA|0.5260802760689823|     650.0|\n",
      "|  Baton Rouge, LA|0.5250782682333449|     339.0|\n",
      "|      Detroit, MI|0.5158785243191883|     297.0|\n",
      "|   Greensboro, NC|0.5155069972559936|     833.0|\n",
      "|      Norfolk, VA| 0.509760166725768|     222.0|\n",
      "|       Durham, NC|0.5069701902798985|     273.0|\n",
      "+-----------------+------------------+----------+\n",
      "\n"
     ]
    }
   ],
   "source": [
    "# Ranking by averaging probabilities\n",
    "df_ngram_cv_idf_lr.groupBy('location').agg({'score': 'avg', 'count': 'sum'}).filter(col('sum(count)') > 200).sort('avg(score)', ascending=False).show(n=1000)"
   ]
  },
  {
   "cell_type": "markdown",
   "metadata": {},
   "source": [
    "# Ranking Result of Naive Bayes"
   ]
  },
  {
   "cell_type": "code",
   "execution_count": 48,
   "metadata": {},
   "outputs": [],
   "source": [
    "nb_pipelineFit_loaded = PipelineModel.load(\"ngram_cv_idf_nb\")"
   ]
  },
  {
   "cell_type": "code",
   "execution_count": 49,
   "metadata": {},
   "outputs": [
    {
     "name": "stdout",
     "output_type": "stream",
     "text": [
      "CPU times: user 40 ms, sys: 40 ms, total: 80 ms\n",
      "Wall time: 8.67 s\n"
     ]
    }
   ],
   "source": [
    "%%time\n",
    "df_ngram_cv_idf_nb = nb_pipelineFit_loaded.transform(df_preprocessed)\n",
    "\n",
    "df_ngram_cv_idf_nb = df_ngram_cv_idf_nb.withColumn(\"count\", udf_count(col(\"text\")))\n",
    "df_ngram_cv_idf_nb = df_ngram_cv_idf_nb.withColumn(\"score\", udf_extract_probability(df_ngram_cv_idf_nb.probability))\n",
    "\n",
    "df_ngram_cv_idf_nb.cache()\n",
    "df_ngram_cv_idf_nb.count()"
   ]
  },
  {
   "cell_type": "code",
   "execution_count": 50,
   "metadata": {
    "scrolled": true
   },
   "outputs": [
    {
     "name": "stdout",
     "output_type": "stream",
     "text": [
      "+-----------------+-------------------+----------+\n",
      "|         location|    avg(prediction)|sum(count)|\n",
      "+-----------------+-------------------+----------+\n",
      "|        Indio, CA|  0.804416403785489|     317.0|\n",
      "|     Paradise, NV|  0.722972972972973|     740.0|\n",
      "|   Enterprise, NV| 0.7124183006535948|     306.0|\n",
      "|    Las Vegas, NV| 0.7099056603773585|     848.0|\n",
      "|     Portland, OR| 0.7047244094488189|     508.0|\n",
      "|    Manhattan, NY| 0.7020946470131885|    1289.0|\n",
      "|       Dayton, OH| 0.7014218009478673|     211.0|\n",
      "|      Seattle, WA| 0.6966292134831461|     623.0|\n",
      "|       Boston, MA| 0.6888888888888889|     225.0|\n",
      "|San Francisco, CA| 0.6834381551362684|     954.0|\n",
      "|    San Diego, CA| 0.6809067131647777|    1147.0|\n",
      "|       Tucson, AZ| 0.6729857819905213|     422.0|\n",
      "|     Honolulu, HI| 0.6679316888045541|     527.0|\n",
      "|     Columbus, OH| 0.6666666666666666|     405.0|\n",
      "|  Los Angeles, CA| 0.6629740893728877|    5326.0|\n",
      "|      Anaheim, CA| 0.6566757493188011|     367.0|\n",
      "|    Henderson, NV| 0.6535947712418301|     306.0|\n",
      "|      Chicago, IL| 0.6530214424951267|    1539.0|\n",
      "|   Long Beach, CA| 0.6526104417670683|     498.0|\n",
      "|       Denver, CO| 0.6522988505747126|     348.0|\n",
      "|       Queens, NY| 0.6504347826086957|     575.0|\n",
      "|         Mesa, AZ| 0.6488888888888888|     225.0|\n",
      "|  Bakersfield, CA| 0.6424731182795699|     372.0|\n",
      "|     Brooklyn, NY|  0.640117994100295|     678.0|\n",
      "|     Stockton, CA| 0.6311475409836066|     244.0|\n",
      "|        Bronx, NY| 0.6291208791208791|     364.0|\n",
      "|    Riverside, CA|  0.628032345013477|     371.0|\n",
      "|   Washington, DC| 0.6232142857142857|     560.0|\n",
      "|      Phoenix, AZ| 0.6161616161616161|     891.0|\n",
      "|     San Jose, CA| 0.6141732283464567|     635.0|\n",
      "|       Austin, TX| 0.6140888208269525|     653.0|\n",
      "|        Tampa, FL| 0.6078431372549019|     204.0|\n",
      "|      Memphis, TN| 0.6074766355140186|     321.0|\n",
      "|        Tempe, AZ| 0.6047904191616766|     334.0|\n",
      "|      El Paso, TX| 0.6038781163434903|     361.0|\n",
      "|      Atlanta, GA| 0.6018641810918774|     751.0|\n",
      "|    Arlington, TX| 0.5973597359735974|     303.0|\n",
      "|       Dallas, TX| 0.5959339263024143|     787.0|\n",
      "|  Tallahassee, FL| 0.5947521865889213|     343.0|\n",
      "|Oklahoma City, OK| 0.5911949685534591|     318.0|\n",
      "|Sunrise Manor, NV| 0.5889328063241107|     253.0|\n",
      "|   Sacramento, CA| 0.5887850467289719|     321.0|\n",
      "|    Nashville, TN| 0.5777439024390244|     656.0|\n",
      "|      Oakland, CA| 0.5772151898734177|     395.0|\n",
      "|   San Marcos, TX| 0.5760233918128655|     342.0|\n",
      "|   Fort Worth, TX| 0.5717391304347826|     460.0|\n",
      "|   Huntsville, AL| 0.5674603174603174|     252.0|\n",
      "|       Fresno, CA| 0.5637149028077754|     463.0|\n",
      "|      Fontana, CA| 0.5634920634920635|     252.0|\n",
      "|    Charlotte, NC| 0.5609756097560976|     287.0|\n",
      "|  San Antonio, TX| 0.5580057526366251|    1043.0|\n",
      "|      Houston, TX| 0.5551298424861644|    2349.0|\n",
      "| Indianapolis, IN| 0.5537190082644629|     242.0|\n",
      "|     Richmond, VA| 0.5532786885245902|     244.0|\n",
      "|   Montgomery, AL| 0.5531914893617021|     329.0|\n",
      "|      Jackson, MS| 0.5441860465116279|     215.0|\n",
      "|  New Orleans, LA| 0.5387994143484627|     683.0|\n",
      "|       Denton, TX| 0.5379537953795379|     303.0|\n",
      "| Philadelphia, PA| 0.5323076923076923|     650.0|\n",
      "| Prairie View, TX| 0.5255681818181818|     352.0|\n",
      "|       Durham, NC| 0.5091575091575091|     273.0|\n",
      "|      Detroit, MI| 0.5084175084175084|     297.0|\n",
      "|   Greensboro, NC| 0.5042016806722689|     833.0|\n",
      "|    Baltimore, MD|                0.5|     362.0|\n",
      "|  Baton Rouge, LA|0.48672566371681414|     339.0|\n",
      "|      Norfolk, VA| 0.4774774774774775|     222.0|\n",
      "|      Garrett, IN|0.02763819095477387|     398.0|\n",
      "+-----------------+-------------------+----------+\n",
      "\n"
     ]
    }
   ],
   "source": [
    "# Ranking by averaging 1/0 values\n",
    "df_ngram_cv_idf_nb.groupBy('location').agg({'prediction': 'avg', 'count': 'sum'}).filter(col('sum(count)') > 200).sort('avg(prediction)', ascending=False).show(n=1000)"
   ]
  },
  {
   "cell_type": "code",
   "execution_count": 51,
   "metadata": {
    "scrolled": true
   },
   "outputs": [
    {
     "name": "stdout",
     "output_type": "stream",
     "text": [
      "+-----------------+-------------------+----------+\n",
      "|         location|         avg(score)|sum(count)|\n",
      "+-----------------+-------------------+----------+\n",
      "|        Indio, CA| 0.8052503685839236|     317.0|\n",
      "|   Enterprise, NV| 0.7207666821255344|     306.0|\n",
      "|    Las Vegas, NV| 0.7179040426814047|     848.0|\n",
      "|     Paradise, NV|  0.715987303945537|     740.0|\n",
      "|    Manhattan, NY| 0.7007458034770002|    1289.0|\n",
      "|     Portland, OR| 0.7002250231266418|     508.0|\n",
      "|      Seattle, WA| 0.6956269658918839|     623.0|\n",
      "|       Boston, MA| 0.6817111825127657|     225.0|\n",
      "|San Francisco, CA| 0.6810358238950329|     954.0|\n",
      "|    San Diego, CA| 0.6776217011588281|    1147.0|\n",
      "|       Dayton, OH| 0.6774919008114745|     211.0|\n",
      "|       Tucson, AZ| 0.6705379933337214|     422.0|\n",
      "|     Honolulu, HI| 0.6620596550954828|     527.0|\n",
      "|  Los Angeles, CA| 0.6614588392771339|    5326.0|\n",
      "|    Henderson, NV| 0.6585136407114579|     306.0|\n",
      "|     Columbus, OH| 0.6584407864261872|     405.0|\n",
      "|      Chicago, IL| 0.6540971162487668|    1539.0|\n",
      "|       Queens, NY| 0.6529205666976418|     575.0|\n",
      "|       Denver, CO| 0.6492606039453107|     348.0|\n",
      "|         Mesa, AZ| 0.6465759141654304|     225.0|\n",
      "|   Long Beach, CA| 0.6461596500293245|     498.0|\n",
      "|      Anaheim, CA| 0.6450731494336354|     367.0|\n",
      "|     Brooklyn, NY| 0.6393178044001523|     678.0|\n",
      "|        Bronx, NY| 0.6376902122637529|     364.0|\n",
      "|  Bakersfield, CA| 0.6341581290556573|     372.0|\n",
      "|     Stockton, CA|  0.622461518111007|     244.0|\n",
      "|    Riverside, CA| 0.6218233884502776|     371.0|\n",
      "|      Phoenix, AZ| 0.6211142488053027|     891.0|\n",
      "|     San Jose, CA| 0.6166685434184869|     635.0|\n",
      "|   Washington, DC| 0.6136815446774467|     560.0|\n",
      "|        Tempe, AZ| 0.6133511584964163|     334.0|\n",
      "|       Austin, TX| 0.6100260587278409|     653.0|\n",
      "|      El Paso, TX| 0.6045039901632765|     361.0|\n",
      "|      Memphis, TN| 0.6025794273556913|     321.0|\n",
      "|        Tampa, FL| 0.5994456043803179|     204.0|\n",
      "|      Atlanta, GA| 0.5983981297038561|     751.0|\n",
      "|       Dallas, TX|  0.594393814719402|     787.0|\n",
      "|    Arlington, TX| 0.5934231134778836|     303.0|\n",
      "|Oklahoma City, OK| 0.5889935198443277|     318.0|\n",
      "|Sunrise Manor, NV| 0.5840596144262359|     253.0|\n",
      "|  Tallahassee, FL| 0.5837465115626245|     343.0|\n",
      "|   Sacramento, CA| 0.5807244775480535|     321.0|\n",
      "|      Oakland, CA| 0.5804807681679904|     395.0|\n",
      "|   San Marcos, TX| 0.5796056907087915|     342.0|\n",
      "|    Nashville, TN| 0.5727962939960383|     656.0|\n",
      "|   Fort Worth, TX| 0.5703707060995262|     460.0|\n",
      "|   Huntsville, AL| 0.5685477657546237|     252.0|\n",
      "|       Fresno, CA| 0.5662771272052494|     463.0|\n",
      "|      Fontana, CA| 0.5613680414825906|     252.0|\n",
      "|  San Antonio, TX|  0.556515588163431|    1043.0|\n",
      "|      Jackson, MS| 0.5537727126734546|     215.0|\n",
      "| Indianapolis, IN| 0.5521347234318075|     242.0|\n",
      "|      Houston, TX| 0.5520432384395643|    2349.0|\n",
      "|    Charlotte, NC| 0.5503370563077467|     287.0|\n",
      "|   Montgomery, AL|  0.548023132777232|     329.0|\n",
      "|       Denton, TX| 0.5457657856348611|     303.0|\n",
      "|     Richmond, VA| 0.5441995243924103|     244.0|\n",
      "|  New Orleans, LA| 0.5392442444407068|     683.0|\n",
      "| Philadelphia, PA| 0.5382529373323997|     650.0|\n",
      "| Prairie View, TX| 0.5249789141001651|     352.0|\n",
      "|      Detroit, MI| 0.5104163545769402|     297.0|\n",
      "|    Baltimore, MD| 0.5047996644736384|     362.0|\n",
      "|   Greensboro, NC|  0.503594172739161|     833.0|\n",
      "|       Durham, NC| 0.4995844986853308|     273.0|\n",
      "|  Baton Rouge, LA|0.48972497441843615|     339.0|\n",
      "|      Garrett, IN| 0.4833951357404922|     398.0|\n",
      "|      Norfolk, VA| 0.4773792284017245|     222.0|\n",
      "+-----------------+-------------------+----------+\n",
      "\n"
     ]
    }
   ],
   "source": [
    "# Ranking by averaging probabilities\n",
    "df_ngram_cv_idf_nb.groupBy('location').agg({'score': 'avg', 'count': 'sum'}).filter(col('sum(count)') > 200).sort('avg(score)', ascending=False).show(n=1000)"
   ]
  },
  {
   "cell_type": "markdown",
   "metadata": {},
   "source": [
    "# Ranking Result of Gradient Boost Tree"
   ]
  },
  {
   "cell_type": "code",
   "execution_count": 52,
   "metadata": {},
   "outputs": [],
   "source": [
    "gbt_pipelineFit_loaded = PipelineModel.load(\"ngram_cv_idf_gbt\")"
   ]
  },
  {
   "cell_type": "code",
   "execution_count": 53,
   "metadata": {},
   "outputs": [
    {
     "name": "stdout",
     "output_type": "stream",
     "text": [
      "CPU times: user 60 ms, sys: 40 ms, total: 100 ms\n",
      "Wall time: 8.56 s\n"
     ]
    }
   ],
   "source": [
    "%%time\n",
    "df_ngram_cv_idf_gbt = gbt_pipelineFit_loaded.transform(df_preprocessed)\n",
    "\n",
    "df_ngram_cv_idf_gbt = df_ngram_cv_idf_gbt.withColumn(\"count\", udf_count(col(\"text\")))\n",
    "df_ngram_cv_idf_gbt = df_ngram_cv_idf_gbt.withColumn(\"score\", udf_extract_probability(df_ngram_cv_idf_gbt.probability))\n",
    "\n",
    "df_ngram_cv_idf_gbt.cache()\n",
    "df_ngram_cv_idf_gbt.count()"
   ]
  },
  {
   "cell_type": "code",
   "execution_count": 54,
   "metadata": {
    "scrolled": true
   },
   "outputs": [
    {
     "name": "stdout",
     "output_type": "stream",
     "text": [
      "+-----------------+--------------------+----------+\n",
      "|         location|     avg(prediction)|sum(count)|\n",
      "+-----------------+--------------------+----------+\n",
      "|        Indio, CA|  0.6182965299684543|     317.0|\n",
      "|    Manhattan, NY|  0.5360744763382467|    1289.0|\n",
      "|       Denton, TX| 0.49504950495049505|     303.0|\n",
      "|      Atlanta, GA| 0.48468708388814913|     751.0|\n",
      "|     Paradise, NV|  0.4810810810810811|     740.0|\n",
      "|     Richmond, VA| 0.47950819672131145|     244.0|\n",
      "|San Francisco, CA| 0.46645702306079667|     954.0|\n",
      "|        Tampa, FL| 0.46568627450980393|     204.0|\n",
      "|   Huntsville, AL| 0.44841269841269843|     252.0|\n",
      "|     Columbus, OH|  0.4469135802469136|     405.0|\n",
      "|       Durham, NC|  0.4468864468864469|     273.0|\n",
      "|      Anaheim, CA| 0.44141689373297005|     367.0|\n",
      "|  Tallahassee, FL| 0.43731778425655976|     343.0|\n",
      "|   San Marcos, TX| 0.43567251461988304|     342.0|\n",
      "|     Honolulu, HI|  0.4269449715370019|     527.0|\n",
      "|      Memphis, TN| 0.42679127725856697|     321.0|\n",
      "|       Boston, MA|  0.4222222222222222|     225.0|\n",
      "|   Fort Worth, TX|  0.4217391304347826|     460.0|\n",
      "|  Los Angeles, CA| 0.41832519714607586|    5326.0|\n",
      "|       Austin, TX| 0.41500765696784075|     653.0|\n",
      "|   Sacramento, CA|  0.4143302180685358|     321.0|\n",
      "|      Detroit, MI|  0.4107744107744108|     297.0|\n",
      "|      Jackson, MS| 0.40930232558139534|     215.0|\n",
      "|   Enterprise, NV| 0.40522875816993464|     306.0|\n",
      "|         Mesa, AZ| 0.40444444444444444|     225.0|\n",
      "|       Queens, NY| 0.40347826086956523|     575.0|\n",
      "|     San Jose, CA|  0.4031496062992126|     635.0|\n",
      "|     Brooklyn, NY|  0.4026548672566372|     678.0|\n",
      "|   Washington, DC|                 0.4|     560.0|\n",
      "|      Chicago, IL| 0.39896036387264455|    1539.0|\n",
      "|    Nashville, TN|  0.3978658536585366|     656.0|\n",
      "|       Denver, CO|  0.3936781609195402|     348.0|\n",
      "|    San Diego, CA|  0.3931996512641674|    1147.0|\n",
      "|      Houston, TX| 0.39250744997871434|    2349.0|\n",
      "|      Fontana, CA| 0.38492063492063494|     252.0|\n",
      "|        Bronx, NY| 0.38461538461538464|     364.0|\n",
      "|    Las Vegas, NV| 0.38443396226415094|     848.0|\n",
      "| Indianapolis, IN|   0.384297520661157|     242.0|\n",
      "|   Long Beach, CA| 0.38353413654618473|     498.0|\n",
      "|      Norfolk, VA| 0.38288288288288286|     222.0|\n",
      "|     Portland, OR| 0.38188976377952755|     508.0|\n",
      "|Oklahoma City, OK|  0.3805031446540881|     318.0|\n",
      "| Prairie View, TX|  0.3778409090909091|     352.0|\n",
      "|   Greensboro, NC|   0.375750300120048|     833.0|\n",
      "|      Seattle, WA|  0.3739967897271268|     623.0|\n",
      "|      Oakland, CA|  0.3721518987341772|     395.0|\n",
      "|      Phoenix, AZ| 0.37149270482603813|     891.0|\n",
      "|        Tempe, AZ|  0.3712574850299401|     334.0|\n",
      "|       Dallas, TX|  0.3697585768742058|     787.0|\n",
      "|  Bakersfield, CA|  0.3655913978494624|     372.0|\n",
      "|      El Paso, TX|  0.3628808864265928|     361.0|\n",
      "|       Fresno, CA| 0.35853131749460043|     463.0|\n",
      "|     Stockton, CA| 0.35655737704918034|     244.0|\n",
      "|  Baton Rouge, LA| 0.35398230088495575|     339.0|\n",
      "|    Charlotte, NC|  0.3519163763066202|     287.0|\n",
      "|    Arlington, TX| 0.34983498349834985|     303.0|\n",
      "|  San Antonio, TX|  0.3480345158197507|    1043.0|\n",
      "|Sunrise Manor, NV| 0.34782608695652173|     253.0|\n",
      "|    Riverside, CA|  0.3477088948787062|     371.0|\n",
      "|    Henderson, NV|  0.3464052287581699|     306.0|\n",
      "|       Tucson, AZ| 0.33886255924170616|     422.0|\n",
      "|    Baltimore, MD|  0.3314917127071823|     362.0|\n",
      "|   Montgomery, AL|   0.331306990881459|     329.0|\n",
      "|  New Orleans, LA|  0.3294289897510981|     683.0|\n",
      "| Philadelphia, PA|  0.3261538461538461|     650.0|\n",
      "|       Dayton, OH|  0.3127962085308057|     211.0|\n",
      "|      Garrett, IN|0.002512562814070352|     398.0|\n",
      "+-----------------+--------------------+----------+\n",
      "\n"
     ]
    }
   ],
   "source": [
    "# Ranking by averaging 1/0 values\n",
    "df_ngram_cv_idf_gbt.groupBy('location').agg({'prediction': 'avg', 'count': 'sum'}).filter(col('sum(count)') > 200).sort('avg(prediction)', ascending=False).show(n=1000)"
   ]
  },
  {
   "cell_type": "code",
   "execution_count": 55,
   "metadata": {
    "scrolled": true
   },
   "outputs": [
    {
     "name": "stdout",
     "output_type": "stream",
     "text": [
      "+-----------------+-------------------+----------+\n",
      "|         location|         avg(score)|sum(count)|\n",
      "+-----------------+-------------------+----------+\n",
      "|        Indio, CA|  0.501394052800608|     317.0|\n",
      "|      Atlanta, GA|0.49581520683361263|     751.0|\n",
      "|    Manhattan, NY|0.49556882373327554|    1289.0|\n",
      "|     Paradise, NV|0.49479909446520365|     740.0|\n",
      "|         Mesa, AZ| 0.4945197708520246|     225.0|\n",
      "|   San Marcos, TX|  0.493439970817821|     342.0|\n",
      "|       Denton, TX|0.49339823052578713|     303.0|\n",
      "|   Enterprise, NV|0.49027325356024093|     306.0|\n",
      "|     Richmond, VA|0.48984174715573375|     244.0|\n",
      "|     Honolulu, HI| 0.4888684906695527|     527.0|\n",
      "|      Memphis, TN| 0.4882033107703744|     321.0|\n",
      "|San Francisco, CA|  0.487459037717402|     954.0|\n",
      "|     Columbus, OH| 0.4869454189847211|     405.0|\n",
      "|      Norfolk, VA|0.48669111139569005|     222.0|\n",
      "|   Fort Worth, TX| 0.4857237192245204|     460.0|\n",
      "|  Tallahassee, FL|0.48486552070430705|     343.0|\n",
      "|       Dayton, OH| 0.4845070058165082|     211.0|\n",
      "|    Las Vegas, NV|0.48398103061159375|     848.0|\n",
      "|   Huntsville, AL| 0.4839688854630321|     252.0|\n",
      "|  Los Angeles, CA|0.48323097910953955|    5326.0|\n",
      "|        Tempe, AZ| 0.4827299584003991|     334.0|\n",
      "|    Nashville, TN|  0.482404719100205|     656.0|\n",
      "|      Houston, TX| 0.4821555834693878|    2349.0|\n",
      "| Prairie View, TX|0.48174661725565604|     352.0|\n",
      "|      Chicago, IL|0.48066038618767315|    1539.0|\n",
      "|       Queens, NY|0.48043461349414074|     575.0|\n",
      "|       Durham, NC| 0.4803603971374204|     273.0|\n",
      "|    San Diego, CA| 0.4796936025154239|    1147.0|\n",
      "|       Austin, TX|0.47899478455604294|     653.0|\n",
      "|      Seattle, WA| 0.4789644926478504|     623.0|\n",
      "| Indianapolis, IN|0.47882987152388945|     242.0|\n",
      "|Oklahoma City, OK| 0.4787041326619302|     318.0|\n",
      "|       Boston, MA| 0.4785411621057458|     225.0|\n",
      "|      Anaheim, CA| 0.4782076573690878|     367.0|\n",
      "|     Stockton, CA|0.47814537375933575|     244.0|\n",
      "|       Tucson, AZ| 0.4777584004270255|     422.0|\n",
      "|   Long Beach, CA| 0.4774616713588791|     498.0|\n",
      "|     Portland, OR|0.47745605514985556|     508.0|\n",
      "|   Greensboro, NC|0.47733457450446665|     833.0|\n",
      "|      Fontana, CA|0.47682361481000946|     252.0|\n",
      "|     Brooklyn, NY|0.47680194009191373|     678.0|\n",
      "|       Dallas, TX|  0.476784379900247|     787.0|\n",
      "|        Tampa, FL|0.47619735004969754|     204.0|\n",
      "|     San Jose, CA| 0.4759845864338662|     635.0|\n",
      "|       Denver, CO| 0.4756083049548158|     348.0|\n",
      "|      Jackson, MS|0.47538964139446044|     215.0|\n",
      "|    Riverside, CA| 0.4752866279746865|     371.0|\n",
      "|   Sacramento, CA| 0.4747294350823505|     321.0|\n",
      "|      Oakland, CA| 0.4737891194480332|     395.0|\n",
      "|    Henderson, NV| 0.4735124842649179|     306.0|\n",
      "|        Bronx, NY| 0.4735095704859571|     364.0|\n",
      "|   Washington, DC|0.47303498393904686|     560.0|\n",
      "|  Baton Rouge, LA|0.47300232317494456|     339.0|\n",
      "|  Bakersfield, CA| 0.4729220870238872|     372.0|\n",
      "|      El Paso, TX|0.47289450112190057|     361.0|\n",
      "|    Arlington, TX|  0.472226522393775|     303.0|\n",
      "|      Detroit, MI| 0.4720210695183998|     297.0|\n",
      "|   Montgomery, AL|0.47159081718104334|     329.0|\n",
      "|       Fresno, CA|0.47118634192591075|     463.0|\n",
      "|  San Antonio, TX| 0.4711371865422195|    1043.0|\n",
      "|      Phoenix, AZ| 0.4693586989330328|     891.0|\n",
      "|  New Orleans, LA|0.46888907829188636|     683.0|\n",
      "|    Charlotte, NC|0.46876626558608625|     287.0|\n",
      "|    Baltimore, MD| 0.4687559098982417|     362.0|\n",
      "|Sunrise Manor, NV|0.46825899237290575|     253.0|\n",
      "| Philadelphia, PA| 0.4678124027017728|     650.0|\n",
      "|      Garrett, IN|0.44763255804931207|     398.0|\n",
      "+-----------------+-------------------+----------+\n",
      "\n"
     ]
    }
   ],
   "source": [
    "# Ranking by averaging probabilities\n",
    "df_ngram_cv_idf_gbt.groupBy('location').agg({'score': 'avg', 'count': 'sum'}).filter(col('sum(count)') > 200).sort('avg(score)', ascending=False).show(n=1000)"
   ]
  },
  {
   "cell_type": "markdown",
   "metadata": {},
   "source": [
    "# Ranking Result of Linear SVM"
   ]
  },
  {
   "cell_type": "code",
   "execution_count": 56,
   "metadata": {},
   "outputs": [],
   "source": [
    "lsvc_pipelineFit_loaded = PipelineModel.load(\"ngram_cv_idf_lsvc\")"
   ]
  },
  {
   "cell_type": "code",
   "execution_count": 65,
   "metadata": {},
   "outputs": [
    {
     "name": "stdout",
     "output_type": "stream",
     "text": [
      "CPU times: user 60 ms, sys: 30 ms, total: 90 ms\n",
      "Wall time: 8.28 s\n"
     ]
    }
   ],
   "source": [
    "%%time\n",
    "df_ngram_cv_idf_lsvc = lsvc_pipelineFit_loaded.transform(df_preprocessed)\n",
    "\n",
    "df_ngram_cv_idf_lsvc = df_ngram_cv_idf_lsvc.withColumn(\"count\", udf_count(col(\"text\")))\n",
    "df_ngram_cv_idf_lsvc = df_ngram_cv_idf_lsvc.withColumn(\"score\", udf_extract_probability(df_ngram_cv_idf_lsvc.rawPrediction))\n",
    "\n",
    "df_ngram_cv_idf_lsvc.cache()\n",
    "df_ngram_cv_idf_lsvc.count()"
   ]
  },
  {
   "cell_type": "code",
   "execution_count": 67,
   "metadata": {
    "scrolled": true
   },
   "outputs": [
    {
     "name": "stdout",
     "output_type": "stream",
     "text": [
      "+-----------------+------------------+----------+\n",
      "|         location|   avg(prediction)|sum(count)|\n",
      "+-----------------+------------------+----------+\n",
      "|      Garrett, IN|0.9472361809045227|     398.0|\n",
      "|        Indio, CA|0.7917981072555205|     317.0|\n",
      "|    Manhattan, NY|0.7820015515903801|    1289.0|\n",
      "|   Enterprise, NV|0.7777777777777778|     306.0|\n",
      "|    Las Vegas, NV|0.7759433962264151|     848.0|\n",
      "|     Paradise, NV|0.7743243243243243|     740.0|\n",
      "|    San Diego, CA|0.7306015693112468|    1147.0|\n",
      "|       Boston, MA|0.7244444444444444|     225.0|\n",
      "|       Queens, NY|0.7234782608695652|     575.0|\n",
      "|        Bronx, NY|0.7225274725274725|     364.0|\n",
      "|     Brooklyn, NY|0.7212389380530974|     678.0|\n",
      "|      Seattle, WA|0.7191011235955056|     623.0|\n",
      "|       Dayton, OH|0.7156398104265402|     211.0|\n",
      "|       Denver, CO|0.7155172413793104|     348.0|\n",
      "|San Francisco, CA|0.7138364779874213|     954.0|\n",
      "|     Columbus, OH|0.7135802469135802|     405.0|\n",
      "|     Portland, OR|0.7125984251968503|     508.0|\n",
      "|      Chicago, IL|0.7102014294996751|    1539.0|\n",
      "|    Henderson, NV|0.7058823529411765|     306.0|\n",
      "|   Long Beach, CA|0.7028112449799196|     498.0|\n",
      "|  Los Angeles, CA|0.7003379647014645|    5326.0|\n",
      "|      Memphis, TN|0.6947040498442367|     321.0|\n",
      "|     Honolulu, HI|0.6888045540796964|     527.0|\n",
      "|      Anaheim, CA|0.6866485013623979|     367.0|\n",
      "|       Tucson, AZ|0.6824644549763034|     422.0|\n",
      "|         Mesa, AZ|0.6711111111111111|     225.0|\n",
      "|  Bakersfield, CA|0.6693548387096774|     372.0|\n",
      "|      Atlanta, GA|0.6684420772303595|     751.0|\n",
      "|     Stockton, CA|0.6680327868852459|     244.0|\n",
      "|     Richmond, VA|0.6680327868852459|     244.0|\n",
      "|       Austin, TX| 0.667687595712098|     653.0|\n",
      "|   Washington, DC|0.6660714285714285|     560.0|\n",
      "|     San Jose, CA|0.6645669291338583|     635.0|\n",
      "|      Phoenix, AZ|0.6644219977553311|     891.0|\n",
      "|        Tempe, AZ|0.6616766467065869|     334.0|\n",
      "|      Oakland, CA|0.6582278481012658|     395.0|\n",
      "|        Tampa, FL|0.6519607843137255|     204.0|\n",
      "|       Denton, TX|0.6501650165016502|     303.0|\n",
      "|    Riverside, CA|0.6442048517520216|     371.0|\n",
      "|       Dallas, TX|0.6429479034307497|     787.0|\n",
      "|   Sacramento, CA|0.6417445482866043|     321.0|\n",
      "|Oklahoma City, OK|0.6383647798742138|     318.0|\n",
      "|  Tallahassee, FL|0.6355685131195336|     343.0|\n",
      "| Indianapolis, IN|0.6322314049586777|     242.0|\n",
      "|   Huntsville, AL|0.6309523809523809|     252.0|\n",
      "|    Nashville, TN|0.6265243902439024|     656.0|\n",
      "|       Fresno, CA|0.6263498920086393|     463.0|\n",
      "|    Arlington, TX|0.6204620462046204|     303.0|\n",
      "|      El Paso, TX|0.6177285318559557|     361.0|\n",
      "|   Fort Worth, TX|0.6108695652173913|     460.0|\n",
      "|      Houston, TX|0.6049382716049383|    2349.0|\n",
      "|      Jackson, MS|0.6046511627906976|     215.0|\n",
      "|  San Antonio, TX|0.6011505273250239|    1043.0|\n",
      "|Sunrise Manor, NV|0.6007905138339921|     253.0|\n",
      "|   San Marcos, TX|0.5994152046783626|     342.0|\n",
      "| Prairie View, TX|0.5965909090909091|     352.0|\n",
      "|   Montgomery, AL|0.5927051671732523|     329.0|\n",
      "| Philadelphia, PA|0.5923076923076923|     650.0|\n",
      "|      Fontana, CA|0.5912698412698413|     252.0|\n",
      "|    Charlotte, NC|0.5888501742160279|     287.0|\n",
      "|  New Orleans, LA|0.5885797950219619|     683.0|\n",
      "|   Greensboro, NC|0.5630252100840336|     833.0|\n",
      "|    Baltimore, MD|0.5580110497237569|     362.0|\n",
      "|  Baton Rouge, LA|0.5486725663716814|     339.0|\n",
      "|      Detroit, MI|0.5387205387205387|     297.0|\n",
      "|      Norfolk, VA| 0.509009009009009|     222.0|\n",
      "|       Durham, NC|0.5018315018315018|     273.0|\n",
      "+-----------------+------------------+----------+\n",
      "\n"
     ]
    }
   ],
   "source": [
    "# Ranking by averaging 1/0 values\n",
    "df_ngram_cv_idf_lsvc.groupBy('location').agg({'prediction': 'avg', 'count': 'sum'}).filter(col('sum(count)') > 200).sort('avg(prediction)', ascending=False).show(n=1000)"
   ]
  },
  {
   "cell_type": "code",
   "execution_count": 68,
   "metadata": {
    "scrolled": true
   },
   "outputs": [
    {
     "name": "stdout",
     "output_type": "stream",
     "text": [
      "+-----------------+--------------------+----------+\n",
      "|         location|          avg(score)|sum(count)|\n",
      "+-----------------+--------------------+----------+\n",
      "|        Indio, CA|  0.9175605454247628|     317.0|\n",
      "|    Manhattan, NY|  0.6269278426365356|    1289.0|\n",
      "|     Paradise, NV| 0.48815083843738233|     740.0|\n",
      "|       Boston, MA|  0.4676841245435888|     225.0|\n",
      "|      Seattle, WA|  0.4629923189413974|     623.0|\n",
      "|San Francisco, CA|   0.440644045010809|     954.0|\n",
      "|     Portland, OR|   0.434840949197935|     508.0|\n",
      "|    Las Vegas, NV|  0.4217519150538475|     848.0|\n",
      "|   Enterprise, NV|  0.4206029384573034|     306.0|\n",
      "|       Queens, NY|  0.4051090978584367|     575.0|\n",
      "|     Brooklyn, NY| 0.37099099523257784|     678.0|\n",
      "|    San Diego, CA|  0.3652296060339492|    1147.0|\n",
      "|  Los Angeles, CA|  0.3314198896847423|    5326.0|\n",
      "|      Chicago, IL| 0.32883183817988465|    1539.0|\n",
      "|         Mesa, AZ|  0.3196190367668085|     225.0|\n",
      "|      Memphis, TN|  0.3165832552322442|     321.0|\n",
      "|       Tucson, AZ| 0.30421726807500454|     422.0|\n",
      "|        Bronx, NY|  0.3034985299766961|     364.0|\n",
      "|   Long Beach, CA|   0.290099592217942|     498.0|\n",
      "|     Columbus, OH| 0.28456658479223235|     405.0|\n",
      "|   Washington, DC| 0.28303940007422773|     560.0|\n",
      "|       Denver, CO| 0.28171259805428983|     348.0|\n",
      "|      Anaheim, CA| 0.27865303869733843|     367.0|\n",
      "|    Henderson, NV|   0.274837372273535|     306.0|\n",
      "|     Honolulu, HI|  0.2716572463160046|     527.0|\n",
      "|      El Paso, TX|  0.2624963693170884|     361.0|\n",
      "|       Dayton, OH| 0.25477721317929636|     211.0|\n",
      "|      Atlanta, GA| 0.23803605346354492|     751.0|\n",
      "|       Austin, TX|  0.2304308540921987|     653.0|\n",
      "|  Bakersfield, CA|   0.229299907400385|     372.0|\n",
      "|     Richmond, VA| 0.20789094548608017|     244.0|\n",
      "|        Tampa, FL|  0.1899962074361976|     204.0|\n",
      "|      Phoenix, AZ| 0.18807615243948886|     891.0|\n",
      "| Indianapolis, IN| 0.17705507012295216|     242.0|\n",
      "|     San Jose, CA|  0.1760589470579296|     635.0|\n",
      "|  San Antonio, TX| 0.17324569326443412|    1043.0|\n",
      "|Sunrise Manor, NV| 0.17027534895811353|     253.0|\n",
      "|Oklahoma City, OK| 0.16000866122960483|     318.0|\n",
      "|       Denton, TX| 0.15706514821995682|     303.0|\n",
      "|   Sacramento, CA|  0.1533940268796232|     321.0|\n",
      "|      Jackson, MS| 0.15318822942055565|     215.0|\n",
      "|       Dallas, TX| 0.15293427206773455|     787.0|\n",
      "|    Riverside, CA| 0.14926465816484738|     371.0|\n",
      "|     Stockton, CA|   0.146325983292322|     244.0|\n",
      "|   Fort Worth, TX| 0.12812074298095713|     460.0|\n",
      "|    Nashville, TN| 0.12532680187713105|     656.0|\n",
      "|    Arlington, TX| 0.11810039696186991|     303.0|\n",
      "|      Fontana, CA| 0.11740887410450637|     252.0|\n",
      "|      Oakland, CA| 0.10915259857343813|     395.0|\n",
      "|   San Marcos, TX| 0.09511586500735121|     342.0|\n",
      "|  New Orleans, LA|  0.0722797151704586|     683.0|\n",
      "|  Tallahassee, FL| 0.07039473032991181|     343.0|\n",
      "|      Houston, TX| 0.06944731594495267|    2349.0|\n",
      "|   Huntsville, AL| 0.06831497769859209|     252.0|\n",
      "|        Tempe, AZ| 0.06646363346880071|     334.0|\n",
      "|       Fresno, CA| 0.05734430552979798|     463.0|\n",
      "|      Garrett, IN| 0.05247795240965581|     398.0|\n",
      "|  Baton Rouge, LA| 0.05240416541401627|     339.0|\n",
      "|    Charlotte, NC|  0.0372880885641974|     287.0|\n",
      "|    Baltimore, MD|0.026072154104134333|     362.0|\n",
      "| Prairie View, TX|0.011465704988418394|     352.0|\n",
      "|   Montgomery, AL|0.011130809098349046|     329.0|\n",
      "|      Norfolk, VA|-0.02646032736819142|     222.0|\n",
      "|      Detroit, MI|-0.06729935523026971|     297.0|\n",
      "|   Greensboro, NC|-0.07167770709841088|     833.0|\n",
      "| Philadelphia, PA|-0.11722219681936191|     650.0|\n",
      "|       Durham, NC|  -0.132738548570203|     273.0|\n",
      "+-----------------+--------------------+----------+\n",
      "\n"
     ]
    }
   ],
   "source": [
    "# Ranking by averaging raw predictions\n",
    "df_ngram_cv_idf_lsvc.groupBy('location').agg({'score': 'avg', 'count': 'sum'}).filter(col('sum(count)') > 200).sort('avg(score)', ascending=False).show(n=1000)"
   ]
  },
  {
   "cell_type": "code",
   "execution_count": null,
   "metadata": {},
   "outputs": [],
   "source": []
  }
 ],
 "metadata": {
  "anaconda-cloud": {},
  "kernelspec": {
   "display_name": "Python 3",
   "language": "python",
   "name": "python3"
  },
  "language_info": {
   "codemirror_mode": {
    "name": "ipython",
    "version": 3
   },
   "file_extension": ".py",
   "mimetype": "text/x-python",
   "name": "python",
   "nbconvert_exporter": "python",
   "pygments_lexer": "ipython3",
   "version": "3.6.3"
  }
 },
 "nbformat": 4,
 "nbformat_minor": 1
}
