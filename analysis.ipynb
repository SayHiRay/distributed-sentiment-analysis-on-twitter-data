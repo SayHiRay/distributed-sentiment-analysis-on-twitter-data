{
 "cells": [
  {
   "cell_type": "code",
   "execution_count": 1,
   "metadata": {},
   "outputs": [],
   "source": [
    "from pyspark.ml.feature import RegexTokenizer, HashingTF, IDF, CountVectorizer, Normalizer\n",
    "from pyspark.sql.functions import col, udf\n",
    "from pyspark.sql.types import IntegerType, DoubleType, StringType, StructType, StructField\n",
    "from pyspark.sql import SparkSession\n",
    "from pyspark.ml.feature import StopWordsRemover\n",
    "from nltk.sentiment import SentimentIntensityAnalyzer"
   ]
  },
  {
   "cell_type": "code",
   "execution_count": 2,
   "metadata": {},
   "outputs": [],
   "source": [
    "data_file = r\"file:///home/jovyan/repos/distributed-sentiment-analysis-on-twitter-data/twitter_scraper/data/twitter_data.csv\"\n",
    "vader_analyzer = SentimentIntensityAnalyzer()"
   ]
  },
  {
   "cell_type": "code",
   "execution_count": 3,
   "metadata": {},
   "outputs": [],
   "source": [
    "# Initialize a Spark session\n",
    "spark = SparkSession \\\n",
    "    .builder \\\n",
    "    .appName(\"SentimentAnalysis\") \\\n",
    "    .getOrCreate()"
   ]
  },
  {
   "cell_type": "code",
   "execution_count": 4,
   "metadata": {},
   "outputs": [],
   "source": [
    "# define the data schema(format/structure) for our twitter data in the csv file\n",
    "twitter_data_schema = StructType([StructField(\"date_str\", StringType(), True),\n",
    "                                  StructField(\"text\", StringType(), True),\n",
    "                                  StructField(\"user_id\", StringType(), True),\n",
    "                                  StructField(\"location\", StringType(), True)])"
   ]
  },
  {
   "cell_type": "code",
   "execution_count": 5,
   "metadata": {},
   "outputs": [],
   "source": [
    "df_raw = spark.read.csv(\n",
    "    data_file, schema=twitter_data_schema\n",
    ")"
   ]
  },
  {
   "cell_type": "code",
   "execution_count": 6,
   "metadata": {
    "scrolled": true
   },
   "outputs": [
    {
     "name": "stdout",
     "output_type": "stream",
     "text": [
      "+------------------------------+--------------------------------------------------------------------------------------------------------------------------------------------------------------------------------------------------------------------------------------------------------------------------------------------------+------------------+--------------------------+\n",
      "|date_str                      |text                                                                                                                                                                                                                                                                                              |user_id           |location                  |\n",
      "+------------------------------+--------------------------------------------------------------------------------------------------------------------------------------------------------------------------------------------------------------------------------------------------------------------------------------------------+------------------+--------------------------+\n",
      "|Tue Mar 27 01:32:57 +0000 2018|After today I am not spending a single fucking dime. Yeah I�ll starve, and yeah I�ll miss my chances on getting shit I want, but enough is enough Jasmine. :sleepy_face:                                                                                                                          |874469849992278016|Los Angeles, CA           |\n",
      "|Tue Mar 27 01:32:57 +0000 2018|Trust the process                                                                                                                                                                                                                                                                                 |388441336         |White Marsh, MD           |\n",
      "|Tue Mar 27 01:32:57 +0000 2018|USER_NAME Seton Hall, St. John, Syracuse and UConn didn't make it.                                                                                                                                                                                                                                |949745290973675520|Lower East Side, Manhattan|\n",
      "|Tue Mar 27 01:32:57 +0000 2018|*21 but facts URL                                                                                                                                                                                                                                                                                 |762917798414655488|Huntsville, TX            |\n",
      "|Tue Mar 27 01:32:57 +0000 2018|USER_NAME USER_NAME USER_NAME :eyes::thinking_face:                                                                                                                                                                                                                                               |1191760663        |Florida, USA              |\n",
      "|Tue Mar 27 01:32:57 +0000 2018|Happy Birthday baby love you URL                                                                                                                                                                                                                                                                  |839935384620511234|Florence, KY              |\n",
      "|Tue Mar 27 01:32:57 +0000 2018|USER_NAME 8 assist                                                                                                                                                                                                                                                                                |4702356673        |Jersey City, NJ           |\n",
      "|Tue Mar 27 01:32:57 +0000 2018|I just love their smiles :smiling_face_with_heart-eyes: URL                                                                                                                                                                                                                                       |591956559         |Ohio, USA                 |\n",
      "|Tue Mar 27 01:32:58 +0000 2018|Me since my fantasy draft last night URL                                                                                                                                                                                                                                                          |42307935          |Queens, NY                |\n",
      "|Tue Mar 27 01:32:58 +0000 2018|Watching USER_NAME with my my 70something mom when she says, �Is that guy (James) the bone-carrier for this show?? :rolling_on_the_floor_laughing: USER_NAME  #nevertooold                                                                                                                        |2426122652        |Texas, USA                |\n",
      "|Tue Mar 27 01:32:58 +0000 2018|True :drooling_face::smirking_face: @ Humber College URL                                                                                                                                                                                                                                          |308239515         |Toronto, Ontario          |\n",
      "|Tue Mar 27 01:32:58 +0000 2018|Cam Da Man :smiling_face_with_heart-eyes: URL                                                                                                                                                                                                                                                     |329484167         |Florida, USA              |\n",
      "|Tue Mar 27 01:32:58 +0000 2018|USER_NAME Dude you�re a better rapper than he is I put that lol                                                                                                                                                                                                                                   |3320553096        |Bisbee, AZ                |\n",
      "|Tue Mar 27 01:32:58 +0000 2018|USER_NAME You sir, need to go back to your desert on a horse with no name! Asshat!                                                                                                                                                                                                                |866367144925175808|Burien, WA                |\n",
      "|Tue Mar 27 01:32:58 +0000 2018|:loudly_crying_face: URL                                                                                                                                                                                                                                                                          |2505105837        |Davie, FL                 |\n",
      "|Tue Mar 27 01:32:58 +0000 2018|Causeee we gone tooot tooot URL                                                                                                                                                                                                                                                                   |484209199         |Cedar Hill, TX            |\n",
      "|Tue Mar 27 01:32:58 +0000 2018|Getting a roku is probably one of the better life decisions I�ve made                                                                                                                                                                                                                             |331937157         |Oklahoma, USA             |\n",
      "|Tue Mar 27 01:32:58 +0000 2018|ben platt has the voice of a god, the raw emotional presence of some primal beast, and the face of an infant                                                                                                                                                                                      |2155981417        |Jericho, NY               |\n",
      "|Tue Mar 27 01:32:58 +0000 2018|USER_NAME Agree, totally!! You�ll make the best decision for you!!  If it makes you feel any better, I have plenty of married friends that I still call by their maiden name (even though their names have changed).  Lol it�s such a tough decision and kinda sad to lose part of your identity!!|1542318998        |Shelby, MI                |\n",
      "|Tue Mar 27 01:32:58 +0000 2018|#AMERICA making stupid people famous through tragedy #MarchForOurLives                                                                                                                                                                                                                            |345058429         |Melrose Park, NY          |\n",
      "+------------------------------+--------------------------------------------------------------------------------------------------------------------------------------------------------------------------------------------------------------------------------------------------------------------------------------------------+------------------+--------------------------+\n",
      "only showing top 20 rows\n",
      "\n"
     ]
    }
   ],
   "source": [
    "df_raw.show(truncate=False)"
   ]
  },
  {
   "cell_type": "code",
   "execution_count": null,
   "metadata": {},
   "outputs": [],
   "source": [
    "udf_sentiment_analysis = udf(lambda words: len(words), IntegerType())"
   ]
  },
  {
   "cell_type": "code",
   "execution_count": null,
   "metadata": {},
   "outputs": [],
   "source": []
  },
  {
   "cell_type": "code",
   "execution_count": null,
   "metadata": {},
   "outputs": [],
   "source": []
  },
  {
   "cell_type": "code",
   "execution_count": null,
   "metadata": {},
   "outputs": [],
   "source": []
  },
  {
   "cell_type": "code",
   "execution_count": null,
   "metadata": {},
   "outputs": [],
   "source": []
  },
  {
   "cell_type": "code",
   "execution_count": null,
   "metadata": {},
   "outputs": [],
   "source": []
  },
  {
   "cell_type": "markdown",
   "metadata": {},
   "source": [
    "# Stop Spark"
   ]
  },
  {
   "cell_type": "code",
   "execution_count": null,
   "metadata": {},
   "outputs": [],
   "source": [
    "spark.stop()"
   ]
  }
 ],
 "metadata": {
  "kernelspec": {
   "display_name": "Python 3",
   "language": "python",
   "name": "python3"
  },
  "language_info": {
   "codemirror_mode": {
    "name": "ipython",
    "version": 3
   },
   "file_extension": ".py",
   "mimetype": "text/x-python",
   "name": "python",
   "nbconvert_exporter": "python",
   "pygments_lexer": "ipython3",
   "version": "3.6.3"
  }
 },
 "nbformat": 4,
 "nbformat_minor": 2
}
