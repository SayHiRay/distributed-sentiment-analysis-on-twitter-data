{
 "cells": [
  {
   "cell_type": "code",
   "execution_count": 1,
   "metadata": {},
   "outputs": [],
   "source": [
    "from pyspark.ml.feature import RegexTokenizer, HashingTF, IDF, CountVectorizer, Normalizer\n",
    "from pyspark.sql.functions import col, udf\n",
    "from pyspark.sql.types import IntegerType, DoubleType, StringType, StructType, StructField\n",
    "from pyspark.sql import SparkSession\n",
    "from pyspark.ml.feature import StopWordsRemover\n",
    "from nltk.sentiment import SentimentIntensityAnalyzer"
   ]
  },
  {
   "cell_type": "code",
   "execution_count": 2,
   "metadata": {},
   "outputs": [],
   "source": [
    "data_file = r\"file:///home/jovyan/repos/distributed-sentiment-analysis-on-twitter-data/twitter_scraper/twitter_data_final.csv\"\n",
    "vader_analyzer = SentimentIntensityAnalyzer()"
   ]
  },
  {
   "cell_type": "code",
   "execution_count": 3,
   "metadata": {},
   "outputs": [],
   "source": [
    "# Initialize a Spark session\n",
    "spark = SparkSession \\\n",
    "    .builder \\\n",
    "    .appName(\"SentimentAnalysis\") \\\n",
    "    .getOrCreate()"
   ]
  },
  {
   "cell_type": "code",
   "execution_count": 4,
   "metadata": {},
   "outputs": [],
   "source": [
    "# define the data schema(format/structure) for our twitter data in the csv file\n",
    "twitter_data_schema = StructType([StructField(\"date_str\", StringType(), True),\n",
    "                                  StructField(\"text\", StringType(), True),\n",
    "                                  StructField(\"user_id\", StringType(), True),\n",
    "                                  StructField(\"location\", StringType(), True)])"
   ]
  },
  {
   "cell_type": "code",
   "execution_count": 5,
   "metadata": {},
   "outputs": [],
   "source": [
    "df_raw = spark.read.csv(\n",
    "    data_file, schema=twitter_data_schema\n",
    ")"
   ]
  },
  {
   "cell_type": "code",
   "execution_count": 6,
   "metadata": {
    "scrolled": true
   },
   "outputs": [
    {
     "name": "stdout",
     "output_type": "stream",
     "text": [
      "+-----------------------------------------------------+------------------+--------------------------------------------------------------------------------------------------------------------------------------------------------------------------------------------------+------------------+\n",
      "|date_str                                             |text              |user_id                                                                                                                                                                                           |location          |\n",
      "+-----------------------------------------------------+------------------+--------------------------------------------------------------------------------------------------------------------------------------------------------------------------------------------------+------------------+\n",
      "|Mon Apr 16 04:56:52 +0000 2018                       |985743805822521345|URL                                                                                                                                                                                               |Toronto, Ontario  |\n",
      "|Mon Apr 16 04:56:52 +0000 2018                       |985743807391019008|:thumbs_up::red_heart:️ URL                                                                                                                                                                       |San Diego, CA     |\n",
      "|Mon Apr 16 04:56:52 +0000 2018                       |985743807927894016|USER_NAME Thank you Coach Joey!! :bear_face::raising_hands::grinning_face_with_big_eyes: Sic’Em Bears! #FinishStrong                                                                              |Waco, TX          |\n",
      "|Kom van die Kalahari af!                             |null              |null                                                                                                                                                                                              |null              |\n",
      "|Sal altyd n Plaasmeisie bly ♡\"                       |a0b47ebc53eb0e63  |https://api.twitter.com/1.1/geo/id/a0b47ebc53eb0e63.json                                                                                                                                          |city              |\n",
      "|Mon Apr 16 04:56:52 +0000 2018                       |985743808137592834|USER_NAME ....just confused about Jesus... ?                                                                                                                                                      |Calgary, Alberta  |\n",
      "|Mon Apr 16 04:56:52 +0000 2018                       |985743807848288256|I am fucking crying URL                                                                                                                                                                           |Savoy, IL         |\n",
      "|Mon Apr 16 04:56:52 +0000 2018                       |985743807915462656|USER_NAME Get rid of Kim, Porscha, and Sheree. Your audience will grow!                                                                                                                           |Gaithersburg, MD  |\n",
      "|Mon Apr 16 04:56:52 +0000 2018                       |985743808074780672|My dog made me soooo mad                                                                                                                                                                          |Baytown, TX       |\n",
      "|Mon Apr 16 04:56:52 +0000 2018                       |985743808208998400|USER_NAME USER_NAME USER_NAME USER_NAME USER_NAME USER_NAME USER_NAME USER_NAME USER_NAME USER_NAME USER_NAME USER_NAME Nope..  the 1 pm start time was made several hours before flooding started|Tennessee, USA    |\n",
      "|Opinions are my own and not the views of my employer\"|7f7d58e5229c6b6c  |https://api.twitter.com/1.1/geo/id/7f7d58e5229c6b6c.json                                                                                                                                          |admin             |\n",
      "|Mon Apr 16 04:56:52 +0000 2018                       |985743808536170496|USER_NAME Agreed!                                                                                                                                                                                 |Illinois, USA     |\n",
      "|Mon Apr 16 04:56:53 +0000 2018                       |985743809265856513|USER_NAME gurl u so fuckin kinky!                                                                                                                                                                 |California, USA   |\n",
      "|Mon Apr 16 04:56:53 +0000 2018                       |985743809286881280|Good kill USER_NAME                                                                                                                                                                               |Los Angeles, CA   |\n",
      "|Mon Apr 16 04:56:52 +0000 2018                       |985743809127632896|USER_NAME BEAUTIFUL AND AMAZING VIEW!                                                                                                                                                             |Valparaiso, IN    |\n",
      "|Mon Apr 16 04:56:53 +0000 2018                       |985743809584738305|I wanna play basketball so bad /:                                                                                                                                                                 |Houston, TX       |\n",
      "|Mon Apr 16 04:56:52 +0000 2018                       |985743807282065408|My comfort zone :smiling_face_with_sunglasses::smiling_face_with_sunglasses::smiling_face_with_sunglasses: URL                                                                                    |Hobbs, NM         |\n",
      "|Mon Apr 16 04:56:53 +0000 2018                       |985743809920339968|people in flint, michigan haven’t had safe drinking water since 2014 and we’re bombing syria for bombing... syria... nice fam USER_NAME                                                           |Pembroke Pines, FL|\n",
      "|Mon Apr 16 04:56:53 +0000 2018                       |985743809689673730|USER_NAME And lies about all who don't flatter him and all those truthful about his inhumanity.                                                                                                   |Wisconsin, USA    |\n",
      "|Mon Apr 16 04:56:52 +0000 2018                       |985743808016023553|Looking through old pics and I miss this :loudly_crying_face: wanna be back in the air URL                                                                                                        |San Marcos, TX    |\n",
      "+-----------------------------------------------------+------------------+--------------------------------------------------------------------------------------------------------------------------------------------------------------------------------------------------+------------------+\n",
      "only showing top 20 rows\n",
      "\n"
     ]
    }
   ],
   "source": [
    "df_raw.show(truncate=False)"
   ]
  },
  {
   "cell_type": "code",
   "execution_count": 7,
   "metadata": {},
   "outputs": [],
   "source": [
    "def sentiment_analysis(text):\n",
    "    result = vader_analyzer.polarity_scores(str(text))\n",
    "    return result\n",
    "\n",
    "udf_sentiment_analysis = udf(sentiment_analysis)"
   ]
  },
  {
   "cell_type": "code",
   "execution_count": 8,
   "metadata": {},
   "outputs": [],
   "source": [
    "sentiment_analysed = df_raw.withColumn(\"polarity_score\", udf_sentiment_analysis(col(\"text\")))"
   ]
  },
  {
   "cell_type": "code",
   "execution_count": 9,
   "metadata": {},
   "outputs": [
    {
     "name": "stdout",
     "output_type": "stream",
     "text": [
      "+-------------------------------------------------------+------------------------------------------------+\n",
      "|text                                                   |polarity_score                                  |\n",
      "+-------------------------------------------------------+------------------------------------------------+\n",
      "|985743805822521345                                     |{neg=0.0, pos=0.0, compound=0.0, neu=1.0}       |\n",
      "|985743807391019008                                     |{neg=0.0, pos=0.0, compound=0.0, neu=1.0}       |\n",
      "|985743807927894016                                     |{neg=0.0, pos=0.0, compound=0.0, neu=1.0}       |\n",
      "|null                                                   |{neg=0.0, pos=0.0, compound=0.0, neu=1.0}       |\n",
      "|a0b47ebc53eb0e63                                       |{neg=0.0, pos=0.0, compound=0.0, neu=1.0}       |\n",
      "|985743808137592834                                     |{neg=0.0, pos=0.0, compound=0.0, neu=1.0}       |\n",
      "|985743807848288256                                     |{neg=0.0, pos=0.0, compound=0.0, neu=1.0}       |\n",
      "|985743807915462656                                     |{neg=0.0, pos=0.0, compound=0.0, neu=1.0}       |\n",
      "|985743808074780672                                     |{neg=0.0, pos=0.0, compound=0.0, neu=1.0}       |\n",
      "|985743808208998400                                     |{neg=0.0, pos=0.0, compound=0.0, neu=1.0}       |\n",
      "|7f7d58e5229c6b6c                                       |{neg=0.0, pos=0.0, compound=0.0, neu=1.0}       |\n",
      "|985743808536170496                                     |{neg=0.0, pos=0.0, compound=0.0, neu=1.0}       |\n",
      "|985743809265856513                                     |{neg=0.0, pos=0.0, compound=0.0, neu=1.0}       |\n",
      "|985743809286881280                                     |{neg=0.0, pos=0.0, compound=0.0, neu=1.0}       |\n",
      "|985743809127632896                                     |{neg=0.0, pos=0.0, compound=0.0, neu=1.0}       |\n",
      "|985743809584738305                                     |{neg=0.0, pos=0.0, compound=0.0, neu=1.0}       |\n",
      "|985743807282065408                                     |{neg=0.0, pos=0.0, compound=0.0, neu=1.0}       |\n",
      "|985743809920339968                                     |{neg=0.0, pos=0.0, compound=0.0, neu=1.0}       |\n",
      "|985743809689673730                                     |{neg=0.0, pos=0.0, compound=0.0, neu=1.0}       |\n",
      "|985743808016023553                                     |{neg=0.0, pos=0.0, compound=0.0, neu=1.0}       |\n",
      "|985743810192969728                                     |{neg=0.0, pos=0.0, compound=0.0, neu=1.0}       |\n",
      "|985743810465415168                                     |{neg=0.0, pos=0.0, compound=0.0, neu=1.0}       |\n",
      "|985743810708701184                                     |{neg=0.0, pos=0.0, compound=0.0, neu=1.0}       |\n",
      "|985743810683531264                                     |{neg=0.0, pos=0.0, compound=0.0, neu=1.0}       |\n",
      "|985743810792583169                                     |{neg=0.0, pos=0.0, compound=0.0, neu=1.0}       |\n",
      "|985743810553671681                                     |{neg=0.0, pos=0.0, compound=0.0, neu=1.0}       |\n",
      "|985743810771738624                                     |{neg=0.0, pos=0.0, compound=0.0, neu=1.0}       |\n",
      "|985743811308609536                                     |{neg=0.0, pos=0.0, compound=0.0, neu=1.0}       |\n",
      "|985743811551879168                                     |{neg=0.0, pos=0.0, compound=0.0, neu=1.0}       |\n",
      "|985743811740688385                                     |{neg=0.0, pos=0.0, compound=0.0, neu=1.0}       |\n",
      "|985743810637463552                                     |{neg=0.0, pos=0.0, compound=0.0, neu=1.0}       |\n",
      "|985743812067606529                                     |{neg=0.0, pos=0.0, compound=0.0, neu=1.0}       |\n",
      "|985743811631394821                                     |{neg=0.0, pos=0.0, compound=0.0, neu=1.0}       |\n",
      "|985743812256587778                                     |{neg=0.0, pos=0.0, compound=0.0, neu=1.0}       |\n",
      "|985743813548396544                                     |{neg=0.0, pos=0.0, compound=0.0, neu=1.0}       |\n",
      "|985743813661609985                                     |{neg=0.0, pos=0.0, compound=0.0, neu=1.0}       |\n",
      "|985743814613749766                                     |{neg=0.0, pos=0.0, compound=0.0, neu=1.0}       |\n",
      "|985743813191888896                                     |{neg=0.0, pos=0.0, compound=0.0, neu=1.0}       |\n",
      "|985743815150419970                                     |{neg=0.0, pos=0.0, compound=0.0, neu=1.0}       |\n",
      "|985743814655729670                                     |{neg=0.0, pos=0.0, compound=0.0, neu=1.0}       |\n",
      "|985743815486029824                                     |{neg=0.0, pos=0.0, compound=0.0, neu=1.0}       |\n",
      "|985743815960027136                                     |{neg=0.0, pos=0.0, compound=0.0, neu=1.0}       |\n",
      "|985743815922409472                                     |{neg=0.0, pos=0.0, compound=0.0, neu=1.0}       |\n",
      "|985743816639631365                                     |{neg=0.0, pos=0.0, compound=0.0, neu=1.0}       |\n",
      "|null                                                   |{neg=0.0, pos=0.0, compound=0.0, neu=1.0}       |\n",
      "|The Woodlands, TX                                      |{neg=0.0, pos=0.618, compound=0.4995, neu=0.382}|\n",
      "|985743817138692096                                     |{neg=0.0, pos=0.0, compound=0.0, neu=1.0}       |\n",
      "|Knoxville, TN                                          |{neg=0.0, pos=0.0, compound=0.0, neu=1.0}       |\n",
      "|985743817180463104                                     |{neg=0.0, pos=0.0, compound=0.0, neu=1.0}       |\n",
      "|985743817927200769                                     |{neg=0.0, pos=0.0, compound=0.0, neu=1.0}       |\n",
      "| just living in a moment that’s truly not meant to be.\"|{neg=0.0, pos=0.244, compound=0.4404, neu=0.756}|\n",
      "|985743817939738624                                     |{neg=0.0, pos=0.0, compound=0.0, neu=1.0}       |\n",
      "|985743818019422208                                     |{neg=0.0, pos=0.0, compound=0.0, neu=1.0}       |\n",
      "|null                                                   |{neg=0.0, pos=0.0, compound=0.0, neu=1.0}       |\n",
      "|null                                                   |{neg=0.0, pos=0.0, compound=0.0, neu=1.0}       |\n",
      "|Temecula, CA                                           |{neg=0.0, pos=0.0, compound=0.0, neu=1.0}       |\n",
      "|f95304ef80fecc3f                                       |{neg=0.0, pos=0.0, compound=0.0, neu=1.0}       |\n",
      "|985743816278802432                                     |{neg=0.0, pos=0.0, compound=0.0, neu=1.0}       |\n",
      "|Kailua, HI                                             |{neg=0.0, pos=0.0, compound=0.0, neu=1.0}       |\n",
      "|985743817792937989                                     |{neg=0.0, pos=0.0, compound=0.0, neu=1.0}       |\n",
      "|985743817969201155                                     |{neg=0.0, pos=0.0, compound=0.0, neu=1.0}       |\n",
      "|985743818229153793                                     |{neg=0.0, pos=0.0, compound=0.0, neu=1.0}       |\n",
      "|985743819156025344                                     |{neg=0.0, pos=0.0, compound=0.0, neu=1.0}       |\n",
      "|985743820154322944                                     |{neg=0.0, pos=0.0, compound=0.0, neu=1.0}       |\n",
      "|07dccb89e8f25a8f                                       |{neg=0.0, pos=0.0, compound=0.0, neu=1.0}       |\n",
      "|985743819927941120                                     |{neg=0.0, pos=0.0, compound=0.0, neu=1.0}       |\n",
      "|6eb95eddb81a6b4b                                       |{neg=0.0, pos=0.0, compound=0.0, neu=1.0}       |\n",
      "|985743820670156800                                     |{neg=0.0, pos=0.0, compound=0.0, neu=1.0}       |\n",
      "|985743821735649280                                     |{neg=0.0, pos=0.0, compound=0.0, neu=1.0}       |\n",
      "|9c1c0a45346f5837                                       |{neg=0.0, pos=0.0, compound=0.0, neu=1.0}       |\n",
      "|985743822218022912                                     |{neg=0.0, pos=0.0, compound=0.0, neu=1.0}       |\n",
      "|985743820666089472                                     |{neg=0.0, pos=0.0, compound=0.0, neu=1.0}       |\n",
      "|985743822536626177                                     |{neg=0.0, pos=0.0, compound=0.0, neu=1.0}       |\n",
      "|985743823186812928                                     |{neg=0.0, pos=0.0, compound=0.0, neu=1.0}       |\n",
      "|985743823153303552                                     |{neg=0.0, pos=0.0, compound=0.0, neu=1.0}       |\n",
      "|985743823912558592                                     |{neg=0.0, pos=0.0, compound=0.0, neu=1.0}       |\n",
      "|985743822335377408                                     |{neg=0.0, pos=0.0, compound=0.0, neu=1.0}       |\n",
      "|985743824512258048                                     |{neg=0.0, pos=0.0, compound=0.0, neu=1.0}       |\n",
      "|895f19a3c08d3d35                                       |{neg=0.0, pos=0.0, compound=0.0, neu=1.0}       |\n",
      "|985743823971258369                                     |{neg=0.0, pos=0.0, compound=0.0, neu=1.0}       |\n",
      "|985743824340254721                                     |{neg=0.0, pos=0.0, compound=0.0, neu=1.0}       |\n",
      "|985743823207837697                                     |{neg=0.0, pos=0.0, compound=0.0, neu=1.0}       |\n",
      "|985743824357068800                                     |{neg=0.0, pos=0.0, compound=0.0, neu=1.0}       |\n",
      "|985743824856088576                                     |{neg=0.0, pos=0.0, compound=0.0, neu=1.0}       |\n",
      "|  Twitch Streamer and Future Youtuber                  |{neg=0.0, pos=0.0, compound=0.0, neu=1.0}       |\n",
      "|985743824839262209                                     |{neg=0.0, pos=0.0, compound=0.0, neu=1.0}       |\n",
      "|985743824939991040                                     |{neg=0.0, pos=0.0, compound=0.0, neu=1.0}       |\n",
      "|985743824696864768                                     |{neg=0.0, pos=0.0, compound=0.0, neu=1.0}       |\n",
      "|985743825271508993                                     |{neg=0.0, pos=0.0, compound=0.0, neu=1.0}       |\n",
      "|985743825036554240                                     |{neg=0.0, pos=0.0, compound=0.0, neu=1.0}       |\n",
      "| pero nos representa el Azul                           |{neg=0.0, pos=0.0, compound=0.0, neu=1.0}       |\n",
      "|985743825388883968                                     |{neg=0.0, pos=0.0, compound=0.0, neu=1.0}       |\n",
      "|985743826345066496                                     |{neg=0.0, pos=0.0, compound=0.0, neu=1.0}       |\n",
      "|985743827003584512                                     |{neg=0.0, pos=0.0, compound=0.0, neu=1.0}       |\n",
      "|985743825208406016                                     |{neg=0.0, pos=0.0, compound=0.0, neu=1.0}       |\n",
      "|Los Angeles, CA                                        |{neg=0.0, pos=0.0, compound=0.0, neu=1.0}       |\n",
      "|985743827242598400                                     |{neg=0.0, pos=0.0, compound=0.0, neu=1.0}       |\n",
      "|985743827360210944                                     |{neg=0.0, pos=0.0, compound=0.0, neu=1.0}       |\n",
      "|985743827523784704                                     |{neg=0.0, pos=0.0, compound=0.0, neu=1.0}       |\n",
      "|985743827804749824                                     |{neg=0.0, pos=0.0, compound=0.0, neu=1.0}       |\n",
      "+-------------------------------------------------------+------------------------------------------------+\n",
      "only showing top 100 rows\n",
      "\n"
     ]
    }
   ],
   "source": [
    "sentiment_analysed.select('text', 'polarity_score').show(n=100,truncate=False)"
   ]
  },
  {
   "cell_type": "code",
   "execution_count": null,
   "metadata": {},
   "outputs": [],
   "source": []
  },
  {
   "cell_type": "markdown",
   "metadata": {},
   "source": [
    "# Stop Spark"
   ]
  },
  {
   "cell_type": "code",
   "execution_count": null,
   "metadata": {},
   "outputs": [],
   "source": [
    "spark.stop()"
   ]
  }
 ],
 "metadata": {
  "kernelspec": {
   "display_name": "Python 3",
   "language": "python",
   "name": "python3"
  },
  "language_info": {
   "codemirror_mode": {
    "name": "ipython",
    "version": 3
   },
   "file_extension": ".py",
   "mimetype": "text/x-python",
   "name": "python",
   "nbconvert_exporter": "python",
   "pygments_lexer": "ipython3",
   "version": "3.6.3"
  }
 },
 "nbformat": 4,
 "nbformat_minor": 2
}
