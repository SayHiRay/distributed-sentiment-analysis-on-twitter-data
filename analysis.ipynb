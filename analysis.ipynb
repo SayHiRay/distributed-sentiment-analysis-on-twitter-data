{
 "cells": [
  {
   "cell_type": "code",
   "execution_count": 10,
   "metadata": {},
   "outputs": [],
   "source": [
    "from pyspark.ml.feature import RegexTokenizer, HashingTF, IDF, CountVectorizer, Normalizer\n",
    "from pyspark.sql.functions import col, udf\n",
    "from pyspark.sql.types import IntegerType, DoubleType, StringType, StructType, StructField\n",
    "from pyspark.sql import SparkSession\n",
    "from pyspark.ml.feature import StopWordsRemover\n",
    "from nltk.sentiment import SentimentIntensityAnalyzer"
   ]
  },
  {
   "cell_type": "code",
   "execution_count": 11,
   "metadata": {},
   "outputs": [],
   "source": [
    "data_file = r\"file:///home/jovyan/repos/distributed-sentiment-analysis-on-twitter-data/twitter_scraper/data/twitter_data.csv\"\n",
    "vader_analyzer = SentimentIntensityAnalyzer()"
   ]
  },
  {
   "cell_type": "code",
   "execution_count": 12,
   "metadata": {},
   "outputs": [],
   "source": [
    "# Initialize a Spark session\n",
    "spark = SparkSession \\\n",
    "    .builder \\\n",
    "    .appName(\"SentimentAnalysis\") \\\n",
    "    .getOrCreate()"
   ]
  },
  {
   "cell_type": "code",
   "execution_count": 13,
   "metadata": {},
   "outputs": [],
   "source": [
    "# define the data schema(format/structure) for our twitter data in the csv file\n",
    "twitter_data_schema = StructType([StructField(\"date_str\", StringType(), True),\n",
    "                                  StructField(\"text\", StringType(), True),\n",
    "                                  StructField(\"user_id\", StringType(), True),\n",
    "                                  StructField(\"location\", StringType(), True)])"
   ]
  },
  {
   "cell_type": "code",
   "execution_count": 14,
   "metadata": {},
   "outputs": [],
   "source": [
    "df_raw = spark.read.csv(\n",
    "    data_file, schema=twitter_data_schema\n",
    ")"
   ]
  },
  {
   "cell_type": "code",
   "execution_count": 15,
   "metadata": {
    "scrolled": true
   },
   "outputs": [
    {
     "name": "stdout",
     "output_type": "stream",
     "text": [
      "+------------------------------+--------------------------------------------------------------------------------------------------------------------------------------------------------------------------+------------------+----------------------+\n",
      "|date_str                      |text                                                                                                                                                                      |user_id           |location              |\n",
      "+------------------------------+--------------------------------------------------------------------------------------------------------------------------------------------------------------------------+------------------+----------------------+\n",
      "|Sat Apr 14 07:27:36 +0000 2018|Y'all I'm so in love                                                                                                                                                      |3466453992        |Brookings, SD         |\n",
      "|Sat Apr 14 07:27:36 +0000 2018|Once ur fully surrendered to God & let him lead ur life u begin to see people through the lense he gives u & distinguish the God-given potential they have                |815766928031498241|Washington, USA       |\n",
      "|Sat Apr 14 07:27:36 +0000 2018|Eating healthy home cooked meals for a long time then going out and eating fast food have you feeling like :pile_of_poo:                                                  |1132767434        |California, USA       |\n",
      "|Sat Apr 14 07:27:37 +0000 2018|USER_NAME Retweetable                                                                                                                                                     |785553167387729920|Lewisville, TX        |\n",
      "|Sat Apr 14 07:27:37 +0000 2018|USER_NAME USER_NAME USER_NAME USER_NAME USER_NAME USER_NAME Your damned if you do and damned if you don’t !!!                                                             |939212490713509888|Minooka, IL           |\n",
      "|Sat Apr 14 07:27:37 +0000 2018|USER_NAME A always B be C closing. Always be closing. URL                                                                                                                 |2279305615        |Chandler, AZ          |\n",
      "|Sat Apr 14 07:27:37 +0000 2018|URL                                                                                                                                                                       |120393696         |West Athens, CA       |\n",
      "|Sat Apr 14 07:27:38 +0000 2018|USER_NAME USER_NAME :person_facepalming:🏽‍:male_sign:️                                                                                                                   |140071287         |Philadelphia, PA      |\n",
      "|Sat Apr 14 07:27:38 +0000 2018|USER_NAME USER_NAME They usually are afraid of a boot to,                                                                                                                 |941827057872277504|Tucson, AZ            |\n",
      "|Sat Apr 14 07:27:38 +0000 2018|USER_NAME it was soooo good                                                                                                                                               |751814142         |Richmond Hill, Ontario|\n",
      "|Sat Apr 14 07:27:38 +0000 2018|USER_NAME Yeah                                                                                                                                                            |2912833408        |Florida, USA          |\n",
      "|Sat Apr 14 07:27:38 +0000 2018|on my block makes me very upset.                                                                                                                                          |870724943314436096|Lake Jackson, TX      |\n",
      "|Sat Apr 14 07:27:38 +0000 2018|USER_NAME The only limit is your imagination. :thumbs_up:                                                                                                                 |816731411839406080|Bethesda, MD          |\n",
      "|Sat Apr 14 07:27:38 +0000 2018|I clean up kinda nice:face_with_tears_of_joy::fire: URL                                                                                                                   |888308712435331072|Flagstaff, AZ         |\n",
      "|Sat Apr 14 07:27:38 +0000 2018|Despite the significance of his discoveries he remains much less well known than his friend and colleague Albert Einstein - perhaps because his reputation is so disputed.|748353246         |Carmichael, CA        |\n",
      "|Sat Apr 14 07:27:39 +0000 2018|Good night :zzz:                                                                                                                                                          |326440164         |Jackson, TN           |\n",
      "|Sat Apr 14 07:27:39 +0000 2018|I don't know how much longer I could hold everything in.                                                                                                                  |2420470746        |Santa Clara, CA       |\n",
      "|Sat Apr 14 07:27:39 +0000 2018|Staying up at 2:30am just for USER_NAME livestream set at Coachella                                                                                                       |401190887         |Milwaukee, WI         |\n",
      "|Sat Apr 14 07:27:39 +0000 2018|Draya ass phat                                                                                                                                                            |63914194          |Hudson, TX            |\n",
      "|Sat Apr 14 07:27:39 +0000 2018|Hillary Clinton was one of the worst U.S. official.                                                                                                                       |97781259          |Hacienda Heights, CA  |\n",
      "+------------------------------+--------------------------------------------------------------------------------------------------------------------------------------------------------------------------+------------------+----------------------+\n",
      "only showing top 20 rows\n",
      "\n"
     ]
    }
   ],
   "source": [
    "df_raw.show(truncate=False)"
   ]
  },
  {
   "cell_type": "code",
   "execution_count": 55,
   "metadata": {},
   "outputs": [],
   "source": [
    "def sentiment_analysis(text):\n",
    "    result = vader_analyzer.polarity_scores(str(text))\n",
    "    return result\n",
    "\n",
    "udf_sentiment_analysis = udf(sentiment_analysis)"
   ]
  },
  {
   "cell_type": "code",
   "execution_count": 52,
   "metadata": {},
   "outputs": [],
   "source": [
    "def dummy(text):\n",
    "    return 111\n",
    "\n",
    "udf_dummy = udf(dummy)"
   ]
  },
  {
   "cell_type": "code",
   "execution_count": 56,
   "metadata": {},
   "outputs": [],
   "source": [
    "sentiment_analysed = df_raw.withColumn(\"polarity_score\", udf_sentiment_analysis(col(\"text\")))"
   ]
  },
  {
   "cell_type": "code",
   "execution_count": 58,
   "metadata": {},
   "outputs": [
    {
     "name": "stdout",
     "output_type": "stream",
     "text": [
      "+----------------------------------------------------------------------------------------------------------------------------------------------------------------------------------------------------------------------------------------------------------------------------------+---------------------------------------------------+\n",
      "|text                                                                                                                                                                                                                                                                              |polarity_score                                     |\n",
      "+----------------------------------------------------------------------------------------------------------------------------------------------------------------------------------------------------------------------------------------------------------------------------------+---------------------------------------------------+\n",
      "|Y'all I'm so in love                                                                                                                                                                                                                                                              |{neg=0.0, pos=0.528, compound=0.6682, neu=0.472}   |\n",
      "|Once ur fully surrendered to God & let him lead ur life u begin to see people through the lense he gives u & distinguish the God-given potential they have                                                                                                                        |{neg=0.0, pos=0.086, compound=0.3321, neu=0.914}   |\n",
      "|Eating healthy home cooked meals for a long time then going out and eating fast food have you feeling like :pile_of_poo:                                                                                                                                                          |{neg=0.0, pos=0.283, compound=0.6908, neu=0.717}   |\n",
      "|USER_NAME Retweetable                                                                                                                                                                                                                                                             |{neg=0.0, pos=0.0, compound=0.0, neu=1.0}          |\n",
      "|USER_NAME USER_NAME USER_NAME USER_NAME USER_NAME USER_NAME Your damned if you do and damned if you don’t !!!                                                                                                                                                                     |{neg=0.288, pos=0.0, compound=-0.7249, neu=0.712}  |\n",
      "|USER_NAME A always B be C closing. Always be closing. URL                                                                                                                                                                                                                         |{neg=0.0, pos=0.0, compound=0.0, neu=1.0}          |\n",
      "|URL                                                                                                                                                                                                                                                                               |{neg=0.0, pos=0.0, compound=0.0, neu=1.0}          |\n",
      "|USER_NAME USER_NAME :person_facepalming:🏽‍:male_sign:️                                                                                                                                                                                                                           |{neg=0.0, pos=0.0, compound=0.0, neu=1.0}          |\n",
      "|USER_NAME USER_NAME They usually are afraid of a boot to,                                                                                                                                                                                                                         |{neg=0.0, pos=0.0, compound=0.0, neu=1.0}          |\n",
      "|USER_NAME it was soooo good                                                                                                                                                                                                                                                       |{neg=0.0, pos=0.42, compound=0.4404, neu=0.58}     |\n",
      "|USER_NAME Yeah                                                                                                                                                                                                                                                                    |{neg=0.0, pos=0.688, compound=0.296, neu=0.312}    |\n",
      "|on my block makes me very upset.                                                                                                                                                                                                                                                  |{neg=0.537, pos=0.0, compound=-0.6997, neu=0.463}  |\n",
      "|USER_NAME The only limit is your imagination. :thumbs_up:                                                                                                                                                                                                                         |{neg=0.0, pos=0.0, compound=0.0, neu=1.0}          |\n",
      "|I clean up kinda nice:face_with_tears_of_joy::fire: URL                                                                                                                                                                                                                           |{neg=0.0, pos=0.403, compound=0.4019, neu=0.597}   |\n",
      "|Despite the significance of his discoveries he remains much less well known than his friend and colleague Albert Einstein - perhaps because his reputation is so disputed.                                                                                                        |{neg=0.154, pos=0.157, compound=0.0198, neu=0.689} |\n",
      "|Good night :zzz:                                                                                                                                                                                                                                                                  |{neg=0.0, pos=0.592, compound=0.4404, neu=0.408}   |\n",
      "|I don't know how much longer I could hold everything in.                                                                                                                                                                                                                          |{neg=0.0, pos=0.0, compound=0.0, neu=1.0}          |\n",
      "|Staying up at 2:30am just for USER_NAME livestream set at Coachella                                                                                                                                                                                                               |{neg=0.0, pos=0.0, compound=0.0, neu=1.0}          |\n",
      "|Draya ass phat                                                                                                                                                                                                                                                                    |{neg=0.636, pos=0.0, compound=-0.5423, neu=0.364}  |\n",
      "|Hillary Clinton was one of the worst U.S. official.                                                                                                                                                                                                                               |{neg=0.339, pos=0.0, compound=-0.6249, neu=0.661}  |\n",
      "|USER_NAME I’m coming to Texas for draft... I’m buying u a beer .... need time To fill u in on all thing Cincy :tumbler_glass: USER_NAME                                                                                                                                           |{neg=0.0, pos=0.0, compound=0.0, neu=1.0}          |\n",
      "|Miami is pretty cool @ Miami University URL                                                                                                                                                                                                                                       |{neg=0.0, pos=0.524, compound=0.6705, neu=0.476}   |\n",
      "|Sooooo y’all naked and tweeting I knew y’all was ruthless                                                                                                                                                                                                                         |{neg=0.0, pos=0.0, compound=0.0, neu=1.0}          |\n",
      "|I will go to Coachella the day I can afford a ticket AND a nice mansion to sleep and bathe in every day                                                                                                                                                                           |{neg=0.0, pos=0.135, compound=0.4215, neu=0.865}   |\n",
      "|Today my planty graduated from car plant to house plant :blue_heart: URL                                                                                                                                                                                                          |{neg=0.0, pos=0.0, compound=0.0, neu=1.0}          |\n",
      "|Thythy: whats fsu? the university right? :person_facepalming:🏻‍:female_sign:️:person_facepalming:🏻‍:female_sign:️:person_facepalming:🏻‍:female_sign:️:person_facepalming:🏻‍:female_sign:️ i’ve had enough of her today                                                        |{neg=0.0, pos=0.0, compound=0.0, neu=1.0}          |\n",
      "|URL                                                                                                                                                                                                                                                                               |{neg=0.0, pos=0.0, compound=0.0, neu=1.0}          |\n",
      "|every1 rly sleep                                                                                                                                                                                                                                                                  |{neg=0.0, pos=0.0, compound=0.0, neu=1.0}          |\n",
      "|USER_NAME Wtf... Is The Sky Blue?Is Water Wet? I’m FUCKING RICH                                                                                                                                                                                                                   |{neg=0.0, pos=0.364, compound=0.773, neu=0.636}    |\n",
      "|Paz por el mundo :globe_showing_Europe-Africa::red_heart:️:raising_hands: #Damascus #PrayForSyria URL                                                                                                                                                                             |{neg=0.0, pos=0.0, compound=0.0, neu=1.0}          |\n",
      "|It is what it is g :person_shrugging:🏽‍:female_sign:️                                                                                                                                                                                                                            |{neg=0.0, pos=0.0, compound=0.0, neu=1.0}          |\n",
      "|Why am I so annoyed ?                                                                                                                                                                                                                                                             |{neg=0.529, pos=0.0, compound=-0.5214, neu=0.471}  |\n",
      "|URL                                                                                                                                                                                                                                                                               |{neg=0.0, pos=0.0, compound=0.0, neu=1.0}          |\n",
      "|Fuxn around.. #beatsbykillroy #producerlife #producergrind #beatsforsale #producerlifestyle… URL                                                                                                                                                                                  |{neg=0.0, pos=0.0, compound=0.0, neu=1.0}          |\n",
      "|LMFOAKDOWNDIJWJ FUCKING BLASSIC URL                                                                                                                                                                                                                                               |{neg=0.0, pos=0.0, compound=0.0, neu=1.0}          |\n",
      "|USER_NAME MY WEAK HEART                                                                                                                                                                                                                                                           |{neg=0.492, pos=0.0, compound=-0.4404, neu=0.508}  |\n",
      "|I'm at Nueva York - USER_NAME in NY URL                                                                                                                                                                                                                                           |{neg=0.0, pos=0.0, compound=0.0, neu=1.0}          |\n",
      "|Peep the snap for a behind the scenes hehe (shhh)                                                                                                                                                                                                                                 |{neg=0.0, pos=0.0, compound=0.0, neu=1.0}          |\n",
      "|USER_NAME It is not illegal! He had 60 days to react! He is our Commander in Chief! France and the UK are with him on this! And if it was illegal why did you not speak up when past Presidents including Obamas did it!                                                          |{neg=0.0, pos=0.143, compound=0.7915, neu=0.857}   |\n",
      "|Sientocomo qur algo me faltas                                                                                                                                                                                                                                                     |{neg=0.0, pos=0.0, compound=0.0, neu=1.0}          |\n",
      "|and they come here and take jobs and money                                                                                                                                                                                                                                        |{neg=0.0, pos=0.0, compound=0.0, neu=1.0}          |\n",
      "|how has the jersey shore cast collectively aged 300 years since 2012???                                                                                                                                                                                                           |{neg=0.0, pos=0.0, compound=0.0, neu=1.0}          |\n",
      "|USER_NAME USER_NAME USER_NAME USER_NAME USER_NAME USER_NAME USER_NAME That’s true. And there are so many he could follow. The point was that if he had a feed of two it would be easy to follow. More illustration than anything - and he said he respected both of them          |{neg=0.0, pos=0.173, compound=0.8316, neu=0.827}   |\n",
      "|Ok, at least Dunford explicitly denied it. URL                                                                                                                                                                                                                                    |{neg=0.261, pos=0.198, compound=-0.1779, neu=0.541}|\n",
      "|The Lord will provide me with more subscribers :winking_face: URL                                                                                                                                                                                                                 |{neg=0.0, pos=0.0, compound=0.0, neu=1.0}          |\n",
      "|Wait hol up :raised_back_of_hand::raised_hand::raised_hand:                                                                                                                                                                                                                       |{neg=0.0, pos=0.0, compound=0.0, neu=1.0}          |\n",
      "|… URL\"                                                                                                                                                                                                                                                                            |{neg=0.0, pos=0.0, compound=0.0, neu=1.0}          |\n",
      "|USER_NAME happy birthday my dude!!! Hope it’s a good one :red_heart:️:red_heart:️:red_heart:️                                                                                                                                                                                     |{neg=0.0, pos=0.597, compound=0.8854, neu=0.403}   |\n",
      "|:face_with_medical_mask: URL                                                                                                                                                                                                                                                      |{neg=0.0, pos=0.0, compound=0.0, neu=1.0}          |\n",
      "|And you have the audacity :face_with_steam_from_nose:                                                                                                                                                                                                                             |{neg=0.0, pos=0.0, compound=0.0, neu=1.0}          |\n",
      "|USER_NAME HAHAHAHA                                                                                                                                                                                                                                                                |{neg=0.0, pos=0.0, compound=0.0, neu=1.0}          |\n",
      "|Tornado Warning including Monroe LA, West Monroe LA, Claiborne LA until 3:00 AM CDT URL                                                                                                                                                                                           |{neg=0.146, pos=0.0, compound=-0.34, neu=0.854}    |\n",
      "|sintiéndome linda.:cherries: URL                                                                                                                                                                                                                                                  |{neg=0.0, pos=0.0, compound=0.0, neu=1.0}          |\n",
      "|USER_NAME USER_NAME Said*                                                                                                                                                                                                                                                         |{neg=0.0, pos=0.0, compound=0.0, neu=1.0}          |\n",
      "|Soml :person_shrugging:🏽‍:female_sign:️ URL                                                                                                                                                                                                                                      |{neg=0.0, pos=0.0, compound=0.0, neu=1.0}          |\n",
      "|USER_NAME Syrians are happy.                                                                                                                                                                                                                                                      |{neg=0.0, pos=0.552, compound=0.5719, neu=0.448}   |\n",
      "|Zach is just too much URL                                                                                                                                                                                                                                                         |{neg=0.0, pos=0.0, compound=0.0, neu=1.0}          |\n",
      "|USER_NAME Same sis!                                                                                                                                                                                                                                                               |{neg=0.0, pos=0.0, compound=0.0, neu=1.0}          |\n",
      "|URL                                                                                                                                                                                                                                                                               |{neg=0.0, pos=0.0, compound=0.0, neu=1.0}          |\n",
      "|Kas my man idc even if he AIN’T he IS.. that’s MINE & if you feel differently @ me so I could slice you up bitch:loudly_crying_face::slightly_smiling_face:                                                                                                                       |{neg=0.0, pos=0.0, compound=0.0, neu=1.0}          |\n",
      "|Joy :smiling_face_with_heart-eyes::smiling_face_with_heart-eyes: URL                                                                                                                                                                                                              |{neg=0.0, pos=0.655, compound=0.5859, neu=0.345}   |\n",
      "|I got a birthday post for Luis but I’ll save it for tomorrow when the TL more active lmao                                                                                                                                                                                         |{neg=0.0, pos=0.501, compound=0.9438, neu=0.499}   |\n",
      "|I have no idea why but I’m having an anxiety attack and it fucking HURTS lmao                                                                                                                                                                                                     |{neg=0.461, pos=0.197, compound=-0.7732, neu=0.342}|\n",
      "|I love being high                                                                                                                                                                                                                                                                 |{neg=0.0, pos=0.677, compound=0.6369, neu=0.323}   |\n",
      "|Tornado Warning including Monroe LA, West Monroe LA, Claiborne LA until 3:00 AM CDT URL                                                                                                                                                                                           |{neg=0.146, pos=0.0, compound=-0.34, neu=0.854}    |\n",
      "|Swear all the Mexican people that I know that went to Coachella not one Angeles Azules post y’all fake don’t @ me                                                                                                                                                                 |{neg=0.193, pos=0.0, compound=-0.5106, neu=0.807}  |\n",
      "|USER_NAME A                                                                                                                                                                                                                                                                       |{neg=0.0, pos=0.0, compound=0.0, neu=1.0}          |\n",
      "|USER_NAME Not because I was sad but because I was so excited :face_with_tears_of_joy::face_with_tears_of_joy::face_with_tears_of_joy::face_with_tears_of_joy:                                                                                                                     |{neg=0.0, pos=0.398, compound=0.7142, neu=0.602}   |\n",
      "|I been writing music since twelve I’m still weak cuz I ain’t #RichBitch                                                                                                                                                                                                           |{neg=0.225, pos=0.0, compound=-0.4404, neu=0.775}  |\n",
      "|USER_NAME USER_NAME USER_NAME Who gives a fig.  Let em scream their bloody heads off.                                                                                                                                                                                             |{neg=0.337, pos=0.0, compound=-0.6808, neu=0.663}  |\n",
      "|UPDATE: President Trump’s statement on the U.S. URL                                                                                                                                                                                                                               |{neg=0.0, pos=0.0, compound=0.0, neu=1.0}          |\n",
      "|Incredible URL                                                                                                                                                                                                                                                                    |{neg=0.0, pos=0.0, compound=0.0, neu=1.0}          |\n",
      "|My body parts hurt :weary_face::weary_face:                                                                                                                                                                                                                                       |{neg=0.459, pos=0.0, compound=-0.5267, neu=0.541}  |\n",
      "|All that glitters is gold #coachella #filthyfangs @ Coachella valley URL                                                                                                                                                                                                          |{neg=0.0, pos=0.0, compound=0.0, neu=1.0}          |\n",
      "|USER_NAME same, idk how to not be awkward                                                                                                                                                                                                                                         |{neg=0.158, pos=0.163, compound=0.0114, neu=0.678} |\n",
      "|It’s so cute that USER_NAME won’t let USER_NAME get in or out of the car until he opens her door for her:red_heart:️                                                                                                                                                              |{neg=0.0, pos=0.136, compound=0.5095, neu=0.864}   |\n",
      "|I’m so excited for school to be over, this last week better fly by                                                                                                                                                                                                                |{neg=0.0, pos=0.318, compound=0.6801, neu=0.682}   |\n",
      "|When you’re poor and have to watch Coachella on YouTube:face_with_tears_of_joy:                                                                                                                                                                                                   |{neg=0.256, pos=0.0, compound=-0.4767, neu=0.744}  |\n",
      "|USER_NAME USER_NAME Trump is a very disturbed sick man.                                                                                                                                                                                                                           |{neg=0.519, pos=0.0, compound=-0.7559, neu=0.481}  |\n",
      "|Goodnight Twitter im sorry I’m using this as my Snapchat right now URL                                                                                                                                                                                                            |{neg=0.098, pos=0.0, compound=-0.0772, neu=0.902}  |\n",
      "|i can’t believe they beat my fren up at work guh:weary_face:                                                                                                                                                                                                                      |{neg=0.0, pos=0.0, compound=0.0, neu=1.0}          |\n",
      "|USER_NAME yesssssss more of the new shit :raising_hands:🏻                                                                                                                                                                                                                        |{neg=0.34, pos=0.0, compound=-0.5574, neu=0.66}    |\n",
      "|This guy was begging me to hang with him tn and I said I was at a little get together w friends & didnt wanna drive & he said he’d send a taxi for me..... a freakin taxi I’m done talking to guys :face_with_tears_of_joy::face_with_tears_of_joy::face_with_tears_of_joy::skull:|{neg=0.0, pos=0.075, compound=0.4284, neu=0.925}   |\n",
      "|It’s not every day one of your favorite DJ/Producers comes to town. Thanks for an amazing show,… URL                                                                                                                                                                              |{neg=0.0, pos=0.393, compound=0.8658, neu=0.607}   |\n",
      "|I've been doin' things how I wanna, focused on the fam and mi casa                                                                                                                                                                                                                |{neg=0.0, pos=0.178, compound=0.3818, neu=0.822}   |\n",
      "|URL                                                                                                                                                                                                                                                                               |{neg=0.0, pos=0.0, compound=0.0, neu=1.0}          |\n",
      "|USER_NAME  URL                                                                                                                                                                                                                                                                    |{neg=0.0, pos=0.0, compound=0.0, neu=1.0}          |\n",
      "|Lol  #fuckruss is a movement :face_with_tears_of_joy:                                                                                                                                                                                                                             |{neg=0.0, pos=0.412, compound=0.4215, neu=0.588}   |\n",
      "|USER_NAME We need more of you out there                                                                                                                                                                                                                                           |{neg=0.0, pos=0.0, compound=0.0, neu=1.0}          |\n",
      "|This night took a turn left                                                                                                                                                                                                                                                       |{neg=0.0, pos=0.0, compound=0.0, neu=1.0}          |\n",
      "|URL Darksiders 3, Biomutant Publisher Skipping E3 - to Watch the World Cup URL                                                                                                                                                                                                    |{neg=0.0, pos=0.0, compound=0.0, neu=1.0}          |\n",
      "|Iyanla: Read the lyrics                                                                                                                                                                                                                                                           |{neg=0.0, pos=0.0, compound=0.0, neu=1.0}          |\n",
      "|null                                                                                                                                                                                                                                                                              |{neg=0.0, pos=0.0, compound=0.0, neu=1.0}          |\n",
      "|null                                                                                                                                                                                                                                                                              |{neg=0.0, pos=0.0, compound=0.0, neu=1.0}          |\n",
      "|null                                                                                                                                                                                                                                                                              |{neg=0.0, pos=0.0, compound=0.0, neu=1.0}          |\n",
      "|null                                                                                                                                                                                                                                                                              |{neg=0.0, pos=0.0, compound=0.0, neu=1.0}          |\n",
      "|395329427                                                                                                                                                                                                                                                                         |{neg=0.0, pos=0.0, compound=0.0, neu=1.0}          |\n",
      "|yo i can’t wait to get a little scorpion tat on my birthday hehehe it’s gonna be SO cute                                                                                                                                                                                          |{neg=0.0, pos=0.201, compound=0.6157, neu=0.799}   |\n",
      "|USER_NAME WWE at its best.                                                                                                                                                                                                                                                        |{neg=0.0, pos=0.512, compound=0.6369, neu=0.488}   |\n",
      "|A poem                                                                                                                                                                                                                                                                            |{neg=0.0, pos=0.0, compound=0.0, neu=1.0}          |\n",
      "+----------------------------------------------------------------------------------------------------------------------------------------------------------------------------------------------------------------------------------------------------------------------------------+---------------------------------------------------+\n",
      "only showing top 100 rows\n",
      "\n"
     ]
    }
   ],
   "source": [
    "sentiment_analysed.select('text', 'polarity_score').show(n=100,truncate=False)"
   ]
  },
  {
   "cell_type": "code",
   "execution_count": null,
   "metadata": {},
   "outputs": [],
   "source": []
  },
  {
   "cell_type": "markdown",
   "metadata": {},
   "source": [
    "# Stop Spark"
   ]
  },
  {
   "cell_type": "code",
   "execution_count": null,
   "metadata": {},
   "outputs": [],
   "source": [
    "spark.stop()"
   ]
  }
 ],
 "metadata": {
  "kernelspec": {
   "display_name": "Python 3",
   "language": "python",
   "name": "python3"
  },
  "language_info": {
   "codemirror_mode": {
    "name": "ipython",
    "version": 3
   },
   "file_extension": ".py",
   "mimetype": "text/x-python",
   "name": "python",
   "nbconvert_exporter": "python",
   "pygments_lexer": "ipython3",
   "version": "3.6.3"
  }
 },
 "nbformat": 4,
 "nbformat_minor": 2
}
